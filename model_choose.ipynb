{
 "cells": [
  {
   "metadata": {},
   "cell_type": "markdown",
   "source": "导入包",
   "id": "c671d30c0ed0acef"
  },
  {
   "metadata": {
    "ExecuteTime": {
     "end_time": "2024-07-17T06:04:41.031748Z",
     "start_time": "2024-07-17T06:04:29.622454Z"
    }
   },
   "cell_type": "code",
   "source": [
    "from tensorflow.keras.layers import MaxPooling1D, Flatten, Conv2D\n",
    "from tensorflow.keras.layers import Conv2D, Activation, Add, GlobalAveragePooling2D\n",
    "from tensorflow.keras.layers import Reshape\n",
    "from sklearn.metrics import roc_curve, auc  \n",
    "from sklearn.preprocessing import label_binarize  \n",
    "import matplotlib.pyplot as plt  \n",
    "import os\n",
    "import pandas as pd\n",
    "import librosa\n",
    "import skimage.util\n",
    "import config\n",
    "import pickle\n",
    "import math\n",
    "from sklearn.metrics import precision_score, recall_score, f1_score, confusion_matrix, accuracy_score\n",
    "import numpy as np  \n",
    "from collections import Counter\n",
    "from tensorflow.keras.layers import Dense, Conv1D, Flatten, Conv2D\n",
    "from tensorflow.keras.layers import Conv2D, BatchNormalization, Activation, Add, Input, GlobalAveragePooling2D, MaxPooling2D\n",
    "from tensorflow.keras.models import Model\n",
    "from tensorflow.keras.layers import Reshape\n",
    "from keras.utils import to_categorical  \n",
    "from tensorflow.keras.models import Sequential  "
   ],
   "id": "f45b8dd6c6a10318",
   "outputs": [
    {
     "name": "stderr",
     "output_type": "stream",
     "text": [
      "D:\\anaconda3\\Lib\\site-packages\\paramiko\\transport.py:219: CryptographyDeprecationWarning: Blowfish has been deprecated and will be removed in a future release\n",
      "  \"class\": algorithms.Blowfish,\n"
     ]
    }
   ],
   "execution_count": 2
  },
  {
   "metadata": {},
   "cell_type": "markdown",
   "source": "配置文件和创建文件夹用于存储特征数据",
   "id": "fbd1edec2cf311fd"
  },
  {
   "metadata": {
    "ExecuteTime": {
     "end_time": "2024-07-17T06:05:03.287060Z",
     "start_time": "2024-07-17T06:05:03.281497Z"
    }
   },
   "cell_type": "code",
   "source": [
    "# Configuration file for parameters\n",
    "os.getcwd()\n",
    "# Data directories\n",
    "# data_df = os.path.join(os.path.pardir, 'data', 'metadata', 'neurips_2021_zenodo_0_0_1.csv')\n",
    "# data_df = os.path.join(os.path.pardir, 'data', 'metadata', 'db_10_06_21_inc_false_positives.csv')\n",
    "data_dir = 'humbugdb_neurips_2021'\n",
    "outputs_dir = os.path.join('outputs')\n",
    "plot_dir = os.path.join('outputs', 'plots')\n",
    "model_dir = os.path.join('outputs', 'models')  # Model sub-directory created in config_keras or config_pytorch\n",
    "# Librosa settings\n",
    "# Feature output directory\n",
    "features_dir = os.path.join('outputs', 'features')\n",
    "# sub-directory for mosquito event_detection\n",
    "dir_out_MED = os.path.join('outputs', 'features', 'MED')\n",
    "# sub-directory for mosquito species classification\n",
    "dir_out_MSC = os.path.join('outputs', 'features', 'MSC')\n",
    "rate = 8000\n",
    "win_size = 30\n",
    "step_size = 5\n",
    "n_feat = 128\n",
    "NFFT = 1024\n",
    "n_hop = NFFT / 2\n",
    "frame_duration = n_hop / rate  # Frame duration in ms\n",
    "# Normalisation\n",
    "norm_per_sample = True\n",
    "# Calculating window size based on desired min duration (sample chunks)\n",
    "# default at 8000Hz: 2048 NFFT -> NFFT/4 for window size = hop length in librosa.\n",
    "# Recommend lowering NFFT to 1024 so that the default hop length is 256 (or 32 ms).\n",
    "# Then a win size of 60 produces 60x32 = 1.92 (s) chunks for training\n",
    "min_duration = win_size * frame_duration  # Change to match 1.92 (later)\n",
    "\n",
    "# Create directories if they do not exist:\n",
    "for directory in [outputs_dir, features_dir]:\n",
    "    # 检查路径是否存在，如果不存在则创建\n",
    "    if not os.path.exists(directory):\n",
    "        os.makedirs(directory)\n",
    "        print('Created directory:', directory)\n",
    "\n",
    "\n",
    "for directory in [plot_dir, dir_out_MED, dir_out_MSC, model_dir]:\n",
    "    if not os.path.isdir(directory):\n",
    "        os.mkdir(directory)\n",
    "        print('Created directory:', directory)\n"
   ],
   "id": "2f7553d1c3d9ccbd",
   "outputs": [],
   "execution_count": 4
  },
  {
   "metadata": {},
   "cell_type": "markdown",
   "source": "提取特征",
   "id": "88919ee63779e4d2"
  },
  {
   "metadata": {
    "ExecuteTime": {
     "end_time": "2024-07-17T06:05:05.057108Z",
     "start_time": "2024-07-17T06:05:05.025595Z"
    }
   },
   "cell_type": "code",
   "source": [
    "df = pd.read_csv('neurips_2021_zenodo_0_0_1.csv')\n",
    "\n",
    "# To be kept: please do not edit the test set: these paths select test set A, test set B as described in the paper\n",
    "idx_test_A = np.logical_and(df['country'] == 'Tanzania', df['location_type'] == 'field')\n",
    "idx_test_B = np.logical_and(df['country'] == 'UK', df['location_type'] == 'culture')\n",
    "idx_train = np.logical_not(np.logical_or(idx_test_A, idx_test_B))\n",
    "df_test_A = df[idx_test_A]\n",
    "df_test_B = df[idx_test_B]\n",
    "\n",
    "\n",
    "# Extract features from wave files with id corresponding to dataframe data_df.\n",
    "def get_feat(data_df, data_dir, rate, min_duration, n_feat):\n",
    "    ''' Returns features extracted with Librosa. A list of features, with the number of items equal to the number of input recordings'''\n",
    "    X = []\n",
    "    y = []\n",
    "    bugs = []\n",
    "    idx = 0\n",
    "    skipped_files = []\n",
    "    for row_idx_series in data_df.iterrows():\n",
    "        idx += 1\n",
    "        if idx % 100 == 0:\n",
    "            print('Completed', idx, 'of', len(data_df))\n",
    "        row = row_idx_series[1]\n",
    "        label_duration = row['length']\n",
    "        if label_duration > min_duration:\n",
    "            _, file_format = os.path.splitext(row['name'])\n",
    "            filename = os.path.join(data_dir, str(row['id']) + file_format)\n",
    "            length = librosa.get_duration(path=filename)\n",
    "            #             assert math.isclose(length,label_duration, rel_tol=0.01), \"File: %s label duration (%.4f) does not match audio length (%.4f)\" % (row['path'], label_duration, length)\n",
    "\n",
    "            if math.isclose(length, label_duration, rel_tol=0.01):\n",
    "                signal, rate = librosa.load(filename, sr=rate)\n",
    "                feat = librosa.feature.melspectrogram(y=signal, sr=rate, n_mels=n_feat)\n",
    "                feat = librosa.power_to_db(feat, ref=np.max)\n",
    "                if config.norm_per_sample:\n",
    "                    feat = (feat - np.mean(feat)) / np.std(feat)\n",
    "                X.append(feat)\n",
    "                if row['sound_type'] == 'mosquito':\n",
    "                    y.append(0)\n",
    "                else:\n",
    "                    if row['sound_type'] =='background':  \n",
    "                        y.append(1)\n",
    "                    else:\n",
    "                        y.append(2)\n",
    "            else:\n",
    "                print(\"File: %s label duration (%.4f) does not match audio length (%.4f)\" % (\n",
    "                    row['name'], label_duration, length))\n",
    "                bugs.append([row['name'], label_duration, length])\n",
    "\n",
    "        else:\n",
    "            skipped_files.append([row['id'], row['name'], label_duration])\n",
    "    return X, y, skipped_files, bugs\n",
    "\n",
    "\n",
    "def reshape_feat(feats, labels, win_size, step_size):\n",
    "    '''Reshaping features from get_feat to be compatible for classifiers expecting a 2D slice as input. Parameter `win_size` is\n",
    "    given in number of feature windows (in librosa this is the hop length divided by the sample rate.)\n",
    "    Can code to be a function of time and hop length instead in future.'''\n",
    "\n",
    "    feats_windowed_array = []\n",
    "    labels_windowed_array = []\n",
    "    for idx, feat in enumerate(feats):\n",
    "        if np.shape(feat)[1] < win_size:\n",
    "            print('Length of recording shorter than supplied window size.')\n",
    "            pass\n",
    "        else:\n",
    "            feats_windowed = skimage.util.view_as_windows(feat.T, (win_size, np.shape(feat)[0]), step=step_size)\n",
    "            # feats_windowed = np.squeeze(feats_windowed) # 删除多余维度\n",
    "            labels_windowed = np.full(len(feats_windowed), labels[idx])\n",
    "            feats_windowed_array.append(feats_windowed)\n",
    "            labels_windowed_array.append(labels_windowed)\n",
    "    return np.vstack(feats_windowed_array), np.hstack(labels_windowed_array)\n"
   ],
   "id": "7d0be166674954ea",
   "outputs": [],
   "execution_count": 5
  },
  {
   "metadata": {
    "ExecuteTime": {
     "end_time": "2024-07-17T06:05:08.031Z",
     "start_time": "2024-07-17T06:05:08.005922Z"
    }
   },
   "cell_type": "code",
   "source": [
    "\n",
    "def get_train_test_from_df(df_train, df_test_A, df_test_B, debug=False):\n",
    "    pickle_name_train = 'log_mel_feat_train_' + str(config.n_feat) + '_win_' + str(config.win_size) + '_step_' + str(\n",
    "        config.step_size) + '_norm_' + str(config.norm_per_sample) + '.pickle'\n",
    "    # step = window for test (no augmentation of test):\n",
    "    pickle_name_test = 'log_mel_feat_test_' + str(config.n_feat) + '_win_' + str(config.win_size) + '_step_' + str(\n",
    "        config.win_size) + '_norm_' + str(config.norm_per_sample) + '.pickle'\n",
    "\n",
    "    if not os.path.isfile(os.path.join(config.dir_out_MED, pickle_name_train)):\n",
    "        print('Extracting training features...')\n",
    "        X_train, y_train, skipped_files_train, bugs_train = get_feat(data_df=df_train, data_dir=config.data_dir,\n",
    "                                                                     rate=config.rate, min_duration=config.min_duration,\n",
    "                                                                     n_feat=config.n_feat)\n",
    "        X_train, y_train = reshape_feat(X_train, y_train, config.win_size, config.step_size)\n",
    "\n",
    "        log_mel_feat_train = {'X_train': X_train, 'y_train': y_train, 'bugs_train': bugs_train}\n",
    "\n",
    "        if debug:\n",
    "            print('Bugs train', bugs_train)\n",
    "\n",
    "        with open(os.path.join(config.dir_out_MED, pickle_name_train), 'wb') as f:\n",
    "            pickle.dump(log_mel_feat_train, f, protocol=4)\n",
    "            print('Saved features to:', os.path.join(config.dir_out_MED, pickle_name_train))\n",
    "\n",
    "    else:\n",
    "        print('Loading training features found at:', os.path.join(config.dir_out_MED, pickle_name_train))\n",
    "        with open(os.path.join(config.dir_out_MED, pickle_name_train), 'rb') as input_file:\n",
    "            log_mel_feat = pickle.load(input_file)\n",
    "            X_train = log_mel_feat['X_train']\n",
    "            y_train = log_mel_feat['y_train']\n",
    "\n",
    "    if not os.path.isfile(os.path.join(config.dir_out_MED, pickle_name_test)):\n",
    "        print('Extracting test features...')\n",
    "\n",
    "        X_test_A, y_test_A, skipped_files_test_A, bugs_test_A = get_feat(data_df=df_test_A, data_dir=config.data_dir,\n",
    "                                                                         rate=config.rate,\n",
    "                                                                         min_duration=config.min_duration,\n",
    "                                                                         n_feat=config.n_feat)\n",
    "        X_test_B, y_test_B, skipped_files_test_B, bugs_test_B = get_feat(data_df=df_test_B, data_dir=config.data_dir,\n",
    "                                                                         rate=config.rate,\n",
    "                                                                         min_duration=config.min_duration,\n",
    "                                                                         n_feat=config.n_feat)\n",
    "        X_test_A, y_test_A = reshape_feat(X_test_A, y_test_A, config.win_size,\n",
    "                                          config.win_size)  # Test should be strided with step = window.\n",
    "        X_test_B, y_test_B = reshape_feat(X_test_B, y_test_B, config.win_size, config.win_size)\n",
    "\n",
    "        log_mel_feat_test = {'X_test_A': X_test_A, 'X_test_B': X_test_B, 'y_test_A': y_test_A, 'y_test_B': y_test_B}\n",
    "\n",
    "        if debug:\n",
    "            print('Bugs test A', bugs_test_A)\n",
    "            print('Bugs test B', bugs_test_B)\n",
    "\n",
    "        with open(os.path.join(config.dir_out_MED, pickle_name_test), 'wb') as f:\n",
    "            pickle.dump(log_mel_feat_test, f, protocol=4)\n",
    "            print('Saved features to:', os.path.join(config.dir_out_MED, pickle_name_test))\n",
    "    else:\n",
    "        print('Loading test features found at:', os.path.join(config.dir_out_MED, pickle_name_test))\n",
    "        with open(os.path.join(config.dir_out_MED, pickle_name_test), 'rb') as input_file:\n",
    "            log_mel_feat = pickle.load(input_file)\n",
    "\n",
    "            X_test_A = log_mel_feat['X_test_A']\n",
    "            y_test_A = log_mel_feat['y_test_A']\n",
    "            X_test_B = log_mel_feat['X_test_B']\n",
    "            y_test_B = log_mel_feat['y_test_B']\n",
    "\n",
    "    return X_train, y_train, X_test_A, y_test_A, X_test_B, y_test_B\n",
    "\n",
    "\n",
    "df_train = df[idx_train]\n",
    "\n",
    "# Modify by addition or sub-sampling of df_train here\n",
    "# df_train ...\n",
    "\n",
    "# Assertion to check that train does NOT appear in test:\n",
    "assert len(np.where(pd.concat([df_train, df_test_A, df_test_B]).duplicated())[0]) == 0, (\n",
    "    'Train dataframe contains overlap with Test A, Test B')\n"
   ],
   "id": "87074e9c53d6e4e4",
   "outputs": [],
   "execution_count": 6
  },
  {
   "metadata": {
    "ExecuteTime": {
     "end_time": "2024-07-17T06:05:14.221117Z",
     "start_time": "2024-07-17T06:05:11.065050Z"
    }
   },
   "cell_type": "code",
   "source": [
    "\n",
    "# 获取数据\n",
    "X_train, y_train, X_test_A, y_test_A, X_test_B, y_test_B = get_train_test_from_df(df_train, df_test_A, df_test_B,\n",
    "                                                                                  debug=True)\n",
    "\n",
    "# Convert to numpy arrays\n",
    "X_train = np.array(X_train)\n",
    "y_train = np.array(y_train)\n",
    "X_test_A = np.array(X_test_A)\n",
    "X_test_B = np.array(X_test_B)\n",
    "y_test_A = np.array(y_test_A)\n",
    "y_test_B = np.array(y_test_B)\n",
    "\n",
    "# Check for NaN values in X_train\n",
    "nan_indices = np.isnan(X_train)\n",
    "if np.any(nan_indices):\n",
    "    print(\"NaN values found in X_train. Handling NaN values...\")\n",
    "    # Option 1: Replace NaN with mean value\n",
    "    from sklearn.impute import SimpleImputer\n",
    "\n",
    "    imputer = SimpleImputer(strategy='mean')\n",
    "    X_train = imputer.fit_transform(X_train)\n",
    "\n",
    "    # Option 2: Drop samples with NaN values\n",
    "    # X_train = X_train[~np.any(nan_indices, axis=1)]"
   ],
   "id": "15af8acc61573320",
   "outputs": [
    {
     "name": "stdout",
     "output_type": "stream",
     "text": [
      "Loading training features found at: outputs\\features\\MED\\log_mel_feat_train_128_win_30_step_5_norm_True.pickle\n",
      "Loading test features found at: outputs\\features\\MED\\log_mel_feat_test_128_win_30_step_30_norm_True.pickle\n"
     ]
    }
   ],
   "execution_count": 7
  },
  {
   "metadata": {
    "ExecuteTime": {
     "end_time": "2024-07-17T04:14:26.407328Z",
     "start_time": "2024-07-17T04:14:26.403644Z"
    }
   },
   "cell_type": "code",
   "source": "print(X_train.shape)",
   "id": "cd9ca90bf61d7640",
   "outputs": [
    {
     "name": "stdout",
     "output_type": "stream",
     "text": [
      "(302037, 1, 30, 128)\n"
     ]
    }
   ],
   "execution_count": 9
  },
  {
   "metadata": {
    "ExecuteTime": {
     "end_time": "2024-07-17T06:05:28.222862Z",
     "start_time": "2024-07-17T06:05:28.194844Z"
    }
   },
   "cell_type": "code",
   "source": [
    "# 训练集标签分布\n",
    "print('y_train dataset shape %s' % Counter(y_train))\n",
    "print('y_test_A dataset shape %s' % Counter(y_test_A))\n",
    "print('y_test_B dataset shape %s' % Counter(y_test_B))"
   ],
   "id": "421a717b594f0d40",
   "outputs": [
    {
     "name": "stdout",
     "output_type": "stream",
     "text": [
      "y_train dataset shape Counter({0: 163603, 1: 136188, 2: 2246})\n",
      "y_test_A dataset shape Counter({1: 2068, 0: 1714})\n",
      "y_test_B dataset shape Counter({1: 1019, 0: 616, 2: 65})\n"
     ]
    }
   ],
   "execution_count": 8
  },
  {
   "metadata": {},
   "cell_type": "markdown",
   "source": "整理输入数据",
   "id": "985e747423dc7c40"
  },
  {
   "metadata": {
    "ExecuteTime": {
     "end_time": "2024-07-17T06:05:48.747931Z",
     "start_time": "2024-07-17T06:05:48.735526Z"
    }
   },
   "cell_type": "code",
   "source": [
    "X_train = X_train\n",
    "y_train = y_train\n",
    "# 调整张量形状\n",
    "X_train = np.squeeze(X_train)\n",
    "n_samples, n_w, n_h = X_train.shape\n",
    "# 将 y_train 转换为独热编码  \n",
    "y_train = to_categorical(y_train, num_classes=3)  "
   ],
   "id": "1074b32fa9f9f45c",
   "outputs": [],
   "execution_count": 9
  },
  {
   "metadata": {
    "ExecuteTime": {
     "end_time": "2024-07-17T06:05:52.104727Z",
     "start_time": "2024-07-17T06:05:50.693152Z"
    }
   },
   "cell_type": "code",
   "source": [
    "# 添加一个维度\n",
    "X_train = Reshape((n_w,n_h,1))(X_train)"
   ],
   "id": "d6320779eab876c4",
   "outputs": [],
   "execution_count": 10
  },
  {
   "metadata": {},
   "cell_type": "markdown",
   "source": "CNN网络",
   "id": "6906ec02029a9d06"
  },
  {
   "metadata": {
    "ExecuteTime": {
     "end_time": "2024-07-17T04:18:40.170662Z",
     "start_time": "2024-07-17T04:18:40.166666Z"
    }
   },
   "cell_type": "code",
   "source": [
    "# 定义cnn模型\n",
    "# 设定输入形状\n",
    "input_shape = (n_w, n_h, 1)"
   ],
   "id": "47a74365813a7e52",
   "outputs": [],
   "execution_count": 17
  },
  {
   "metadata": {
    "ExecuteTime": {
     "end_time": "2024-07-17T05:22:45.156209Z",
     "start_time": "2024-07-17T05:22:45.093596Z"
    }
   },
   "cell_type": "code",
   "source": [
    "# 创建模型\n",
    "model = Sequential()\n",
    "\n",
    "# 添加卷积层\n",
    "model.add(Conv2D(filters=32, kernel_size=(3, 3), strides=(1, 1), padding='same', activation='relu', input_shape=input_shape))\n",
    "model.add(MaxPooling2D(pool_size=(2,2)))  # 添加最大池化层\n",
    "\n",
    "\n",
    "\n",
    "\n",
    "# 添加第二个卷积层\n",
    "model.add(Conv2D(filters=32, kernel_size=(3, 3), strides=(1, 1), activation='relu', padding='same'))\n",
    "model.add(MaxPooling2D(pool_size=(2,2)))\n",
    "\n",
    "# 添加第二个卷积层\n",
    "model.add(Conv2D(filters=32, kernel_size=(3, 3), strides=(1, 1), activation='relu', padding='same'))\n",
    "model.add(MaxPooling2D(pool_size=(2,2)))\n",
    "\n",
    "# 添加第三个卷积层\n",
    "model.add(Conv2D(filters=32, kernel_size=(3, 3), strides=(1, 1), activation='relu', padding='same'))\n",
    "model.add(GlobalAveragePooling2D())  # 添加全局平均池化层\n",
    "\n",
    "# 展平层\n",
    "# GlobalAveragePooling1D 已经展平输出，所以不需要 Flatten 层\n",
    "\n",
    "# 全连接层\n",
    "model.add(Dense(128, activation='relu'))\n",
    "# model.add(Dropout(0.5))  # 添加50%的Dropout\n",
    "\n",
    "# 输出层\n",
    "model.add(Dense(3, activation='softmax'))\n",
    "\n",
    "# 编译模型\n",
    "model.compile(optimizer='adam', loss='categorical_crossentropy', metrics=['accuracy'])\n",
    "model.summary()"
   ],
   "id": "bfe29749884b75c7",
   "outputs": [
    {
     "name": "stderr",
     "output_type": "stream",
     "text": [
      "D:\\pml-project\\venv\\Lib\\site-packages\\keras\\src\\layers\\convolutional\\base_conv.py:107: UserWarning: Do not pass an `input_shape`/`input_dim` argument to a layer. When using Sequential models, prefer using an `Input(shape)` object as the first layer in the model instead.\n",
      "  super().__init__(activity_regularizer=activity_regularizer, **kwargs)\n"
     ]
    },
    {
     "data": {
      "text/plain": [
       "\u001B[1mModel: \"sequential_3\"\u001B[0m\n"
      ],
      "text/html": [
       "<pre style=\"white-space:pre;overflow-x:auto;line-height:normal;font-family:Menlo,'DejaVu Sans Mono',consolas,'Courier New',monospace\"><span style=\"font-weight: bold\">Model: \"sequential_3\"</span>\n",
       "</pre>\n"
      ]
     },
     "metadata": {},
     "output_type": "display_data"
    },
    {
     "data": {
      "text/plain": [
       "┏━━━━━━━━━━━━━━━━━━━━━━━━━━━━━━━━━┳━━━━━━━━━━━━━━━━━━━━━━━━┳━━━━━━━━━━━━━━━┓\n",
       "┃\u001B[1m \u001B[0m\u001B[1mLayer (type)                   \u001B[0m\u001B[1m \u001B[0m┃\u001B[1m \u001B[0m\u001B[1mOutput Shape          \u001B[0m\u001B[1m \u001B[0m┃\u001B[1m \u001B[0m\u001B[1m      Param #\u001B[0m\u001B[1m \u001B[0m┃\n",
       "┡━━━━━━━━━━━━━━━━━━━━━━━━━━━━━━━━━╇━━━━━━━━━━━━━━━━━━━━━━━━╇━━━━━━━━━━━━━━━┩\n",
       "│ conv2d_33 (\u001B[38;5;33mConv2D\u001B[0m)              │ (\u001B[38;5;45mNone\u001B[0m, \u001B[38;5;34m30\u001B[0m, \u001B[38;5;34m128\u001B[0m, \u001B[38;5;34m32\u001B[0m)    │           \u001B[38;5;34m320\u001B[0m │\n",
       "├─────────────────────────────────┼────────────────────────┼───────────────┤\n",
       "│ max_pooling2d_6 (\u001B[38;5;33mMaxPooling2D\u001B[0m)  │ (\u001B[38;5;45mNone\u001B[0m, \u001B[38;5;34m15\u001B[0m, \u001B[38;5;34m64\u001B[0m, \u001B[38;5;34m32\u001B[0m)     │             \u001B[38;5;34m0\u001B[0m │\n",
       "├─────────────────────────────────┼────────────────────────┼───────────────┤\n",
       "│ conv2d_34 (\u001B[38;5;33mConv2D\u001B[0m)              │ (\u001B[38;5;45mNone\u001B[0m, \u001B[38;5;34m15\u001B[0m, \u001B[38;5;34m64\u001B[0m, \u001B[38;5;34m32\u001B[0m)     │         \u001B[38;5;34m9,248\u001B[0m │\n",
       "├─────────────────────────────────┼────────────────────────┼───────────────┤\n",
       "│ max_pooling2d_7 (\u001B[38;5;33mMaxPooling2D\u001B[0m)  │ (\u001B[38;5;45mNone\u001B[0m, \u001B[38;5;34m7\u001B[0m, \u001B[38;5;34m32\u001B[0m, \u001B[38;5;34m32\u001B[0m)      │             \u001B[38;5;34m0\u001B[0m │\n",
       "├─────────────────────────────────┼────────────────────────┼───────────────┤\n",
       "│ conv2d_35 (\u001B[38;5;33mConv2D\u001B[0m)              │ (\u001B[38;5;45mNone\u001B[0m, \u001B[38;5;34m7\u001B[0m, \u001B[38;5;34m32\u001B[0m, \u001B[38;5;34m32\u001B[0m)      │         \u001B[38;5;34m9,248\u001B[0m │\n",
       "├─────────────────────────────────┼────────────────────────┼───────────────┤\n",
       "│ max_pooling2d_8 (\u001B[38;5;33mMaxPooling2D\u001B[0m)  │ (\u001B[38;5;45mNone\u001B[0m, \u001B[38;5;34m3\u001B[0m, \u001B[38;5;34m16\u001B[0m, \u001B[38;5;34m32\u001B[0m)      │             \u001B[38;5;34m0\u001B[0m │\n",
       "├─────────────────────────────────┼────────────────────────┼───────────────┤\n",
       "│ conv2d_36 (\u001B[38;5;33mConv2D\u001B[0m)              │ (\u001B[38;5;45mNone\u001B[0m, \u001B[38;5;34m3\u001B[0m, \u001B[38;5;34m16\u001B[0m, \u001B[38;5;34m32\u001B[0m)      │         \u001B[38;5;34m9,248\u001B[0m │\n",
       "├─────────────────────────────────┼────────────────────────┼───────────────┤\n",
       "│ global_average_pooling2d_4      │ (\u001B[38;5;45mNone\u001B[0m, \u001B[38;5;34m32\u001B[0m)             │             \u001B[38;5;34m0\u001B[0m │\n",
       "│ (\u001B[38;5;33mGlobalAveragePooling2D\u001B[0m)        │                        │               │\n",
       "├─────────────────────────────────┼────────────────────────┼───────────────┤\n",
       "│ dense_6 (\u001B[38;5;33mDense\u001B[0m)                 │ (\u001B[38;5;45mNone\u001B[0m, \u001B[38;5;34m128\u001B[0m)            │         \u001B[38;5;34m4,224\u001B[0m │\n",
       "├─────────────────────────────────┼────────────────────────┼───────────────┤\n",
       "│ dense_7 (\u001B[38;5;33mDense\u001B[0m)                 │ (\u001B[38;5;45mNone\u001B[0m, \u001B[38;5;34m3\u001B[0m)              │           \u001B[38;5;34m387\u001B[0m │\n",
       "└─────────────────────────────────┴────────────────────────┴───────────────┘\n"
      ],
      "text/html": [
       "<pre style=\"white-space:pre;overflow-x:auto;line-height:normal;font-family:Menlo,'DejaVu Sans Mono',consolas,'Courier New',monospace\">┏━━━━━━━━━━━━━━━━━━━━━━━━━━━━━━━━━┳━━━━━━━━━━━━━━━━━━━━━━━━┳━━━━━━━━━━━━━━━┓\n",
       "┃<span style=\"font-weight: bold\"> Layer (type)                    </span>┃<span style=\"font-weight: bold\"> Output Shape           </span>┃<span style=\"font-weight: bold\">       Param # </span>┃\n",
       "┡━━━━━━━━━━━━━━━━━━━━━━━━━━━━━━━━━╇━━━━━━━━━━━━━━━━━━━━━━━━╇━━━━━━━━━━━━━━━┩\n",
       "│ conv2d_33 (<span style=\"color: #0087ff; text-decoration-color: #0087ff\">Conv2D</span>)              │ (<span style=\"color: #00d7ff; text-decoration-color: #00d7ff\">None</span>, <span style=\"color: #00af00; text-decoration-color: #00af00\">30</span>, <span style=\"color: #00af00; text-decoration-color: #00af00\">128</span>, <span style=\"color: #00af00; text-decoration-color: #00af00\">32</span>)    │           <span style=\"color: #00af00; text-decoration-color: #00af00\">320</span> │\n",
       "├─────────────────────────────────┼────────────────────────┼───────────────┤\n",
       "│ max_pooling2d_6 (<span style=\"color: #0087ff; text-decoration-color: #0087ff\">MaxPooling2D</span>)  │ (<span style=\"color: #00d7ff; text-decoration-color: #00d7ff\">None</span>, <span style=\"color: #00af00; text-decoration-color: #00af00\">15</span>, <span style=\"color: #00af00; text-decoration-color: #00af00\">64</span>, <span style=\"color: #00af00; text-decoration-color: #00af00\">32</span>)     │             <span style=\"color: #00af00; text-decoration-color: #00af00\">0</span> │\n",
       "├─────────────────────────────────┼────────────────────────┼───────────────┤\n",
       "│ conv2d_34 (<span style=\"color: #0087ff; text-decoration-color: #0087ff\">Conv2D</span>)              │ (<span style=\"color: #00d7ff; text-decoration-color: #00d7ff\">None</span>, <span style=\"color: #00af00; text-decoration-color: #00af00\">15</span>, <span style=\"color: #00af00; text-decoration-color: #00af00\">64</span>, <span style=\"color: #00af00; text-decoration-color: #00af00\">32</span>)     │         <span style=\"color: #00af00; text-decoration-color: #00af00\">9,248</span> │\n",
       "├─────────────────────────────────┼────────────────────────┼───────────────┤\n",
       "│ max_pooling2d_7 (<span style=\"color: #0087ff; text-decoration-color: #0087ff\">MaxPooling2D</span>)  │ (<span style=\"color: #00d7ff; text-decoration-color: #00d7ff\">None</span>, <span style=\"color: #00af00; text-decoration-color: #00af00\">7</span>, <span style=\"color: #00af00; text-decoration-color: #00af00\">32</span>, <span style=\"color: #00af00; text-decoration-color: #00af00\">32</span>)      │             <span style=\"color: #00af00; text-decoration-color: #00af00\">0</span> │\n",
       "├─────────────────────────────────┼────────────────────────┼───────────────┤\n",
       "│ conv2d_35 (<span style=\"color: #0087ff; text-decoration-color: #0087ff\">Conv2D</span>)              │ (<span style=\"color: #00d7ff; text-decoration-color: #00d7ff\">None</span>, <span style=\"color: #00af00; text-decoration-color: #00af00\">7</span>, <span style=\"color: #00af00; text-decoration-color: #00af00\">32</span>, <span style=\"color: #00af00; text-decoration-color: #00af00\">32</span>)      │         <span style=\"color: #00af00; text-decoration-color: #00af00\">9,248</span> │\n",
       "├─────────────────────────────────┼────────────────────────┼───────────────┤\n",
       "│ max_pooling2d_8 (<span style=\"color: #0087ff; text-decoration-color: #0087ff\">MaxPooling2D</span>)  │ (<span style=\"color: #00d7ff; text-decoration-color: #00d7ff\">None</span>, <span style=\"color: #00af00; text-decoration-color: #00af00\">3</span>, <span style=\"color: #00af00; text-decoration-color: #00af00\">16</span>, <span style=\"color: #00af00; text-decoration-color: #00af00\">32</span>)      │             <span style=\"color: #00af00; text-decoration-color: #00af00\">0</span> │\n",
       "├─────────────────────────────────┼────────────────────────┼───────────────┤\n",
       "│ conv2d_36 (<span style=\"color: #0087ff; text-decoration-color: #0087ff\">Conv2D</span>)              │ (<span style=\"color: #00d7ff; text-decoration-color: #00d7ff\">None</span>, <span style=\"color: #00af00; text-decoration-color: #00af00\">3</span>, <span style=\"color: #00af00; text-decoration-color: #00af00\">16</span>, <span style=\"color: #00af00; text-decoration-color: #00af00\">32</span>)      │         <span style=\"color: #00af00; text-decoration-color: #00af00\">9,248</span> │\n",
       "├─────────────────────────────────┼────────────────────────┼───────────────┤\n",
       "│ global_average_pooling2d_4      │ (<span style=\"color: #00d7ff; text-decoration-color: #00d7ff\">None</span>, <span style=\"color: #00af00; text-decoration-color: #00af00\">32</span>)             │             <span style=\"color: #00af00; text-decoration-color: #00af00\">0</span> │\n",
       "│ (<span style=\"color: #0087ff; text-decoration-color: #0087ff\">GlobalAveragePooling2D</span>)        │                        │               │\n",
       "├─────────────────────────────────┼────────────────────────┼───────────────┤\n",
       "│ dense_6 (<span style=\"color: #0087ff; text-decoration-color: #0087ff\">Dense</span>)                 │ (<span style=\"color: #00d7ff; text-decoration-color: #00d7ff\">None</span>, <span style=\"color: #00af00; text-decoration-color: #00af00\">128</span>)            │         <span style=\"color: #00af00; text-decoration-color: #00af00\">4,224</span> │\n",
       "├─────────────────────────────────┼────────────────────────┼───────────────┤\n",
       "│ dense_7 (<span style=\"color: #0087ff; text-decoration-color: #0087ff\">Dense</span>)                 │ (<span style=\"color: #00d7ff; text-decoration-color: #00d7ff\">None</span>, <span style=\"color: #00af00; text-decoration-color: #00af00\">3</span>)              │           <span style=\"color: #00af00; text-decoration-color: #00af00\">387</span> │\n",
       "└─────────────────────────────────┴────────────────────────┴───────────────┘\n",
       "</pre>\n"
      ]
     },
     "metadata": {},
     "output_type": "display_data"
    },
    {
     "data": {
      "text/plain": [
       "\u001B[1m Total params: \u001B[0m\u001B[38;5;34m32,675\u001B[0m (127.64 KB)\n"
      ],
      "text/html": [
       "<pre style=\"white-space:pre;overflow-x:auto;line-height:normal;font-family:Menlo,'DejaVu Sans Mono',consolas,'Courier New',monospace\"><span style=\"font-weight: bold\"> Total params: </span><span style=\"color: #00af00; text-decoration-color: #00af00\">32,675</span> (127.64 KB)\n",
       "</pre>\n"
      ]
     },
     "metadata": {},
     "output_type": "display_data"
    },
    {
     "data": {
      "text/plain": [
       "\u001B[1m Trainable params: \u001B[0m\u001B[38;5;34m32,675\u001B[0m (127.64 KB)\n"
      ],
      "text/html": [
       "<pre style=\"white-space:pre;overflow-x:auto;line-height:normal;font-family:Menlo,'DejaVu Sans Mono',consolas,'Courier New',monospace\"><span style=\"font-weight: bold\"> Trainable params: </span><span style=\"color: #00af00; text-decoration-color: #00af00\">32,675</span> (127.64 KB)\n",
       "</pre>\n"
      ]
     },
     "metadata": {},
     "output_type": "display_data"
    },
    {
     "data": {
      "text/plain": [
       "\u001B[1m Non-trainable params: \u001B[0m\u001B[38;5;34m0\u001B[0m (0.00 B)\n"
      ],
      "text/html": [
       "<pre style=\"white-space:pre;overflow-x:auto;line-height:normal;font-family:Menlo,'DejaVu Sans Mono',consolas,'Courier New',monospace\"><span style=\"font-weight: bold\"> Non-trainable params: </span><span style=\"color: #00af00; text-decoration-color: #00af00\">0</span> (0.00 B)\n",
       "</pre>\n"
      ]
     },
     "metadata": {},
     "output_type": "display_data"
    }
   ],
   "execution_count": 38
  },
  {
   "metadata": {},
   "cell_type": "markdown",
   "source": "",
   "id": "765d37261d392d94"
  },
  {
   "metadata": {},
   "cell_type": "markdown",
   "source": "CNN_RET",
   "id": "ac878d3f8621bf1c"
  },
  {
   "metadata": {
    "ExecuteTime": {
     "end_time": "2024-07-17T06:06:20.742732Z",
     "start_time": "2024-07-17T06:06:20.602133Z"
    }
   },
   "cell_type": "code",
   "source": [
    "def residual_block(x, filters, kernel_size=3, stride=1, conv_shortcut=False):\n",
    "    shortcut = x\n",
    "    \n",
    "    # 第一个卷积层\n",
    "    y = Conv2D(filters, kernel_size=(kernel_size, kernel_size), strides=(stride, stride), padding='same')(x)\n",
    "    y = BatchNormalization()(y)\n",
    "    y = Activation('relu')(y)\n",
    "    \n",
    "    # 如果需要，使用卷积层调整捷径分支的形状\n",
    "    if conv_shortcut or x.shape[-1] != filters:\n",
    "        shortcut = Conv2D(filters, kernel_size=(1, 1), strides=(stride, stride), padding='same')(shortcut)\n",
    "    \n",
    "    # 添加捷径连接\n",
    "    y = Add()([shortcut, y])\n",
    "    y = Activation('relu')(y)\n",
    "    \n",
    "    return y\n",
    "\n",
    "# 输入层\n",
    "input_layer = Input(shape=(30, 128, 1))  # 假设输入为 30x128 的灰度图像\n",
    "\n",
    "# 添加几个残差块\n",
    "x = residual_block(input_layer, 32)\n",
    "x = residual_block(x, 16)\n",
    "x = residual_block(x, 32, stride=2, conv_shortcut=True)  \n",
    "x = residual_block(x, 16)\n",
    "x = residual_block(x, 32, stride=2, conv_shortcut=True)  \n",
    "x = residual_block(x, 16)\n",
    "\n",
    "# 平均池化层\n",
    "x = GlobalAveragePooling2D()(x)\n",
    "\n",
    "# 输出层：分类问题\n",
    "outputs = Dense(3, activation='softmax')(x)\n",
    "\n",
    "# 创建模型\n",
    "model2 = Model(inputs=input_layer, outputs=outputs)\n",
    "\n",
    "# 编译模型\n",
    "model2.compile(optimizer='adam',\n",
    "              loss='categorical_crossentropy',\n",
    "              metrics=['accuracy'])\n",
    "\n",
    "# 打印模型概要\n",
    "model2.summary()"
   ],
   "id": "6d9c4d886ef0b8b1",
   "outputs": [
    {
     "data": {
      "text/plain": [
       "\u001B[1mModel: \"functional\"\u001B[0m\n"
      ],
      "text/html": [
       "<pre style=\"white-space:pre;overflow-x:auto;line-height:normal;font-family:Menlo,'DejaVu Sans Mono',consolas,'Courier New',monospace\"><span style=\"font-weight: bold\">Model: \"functional\"</span>\n",
       "</pre>\n"
      ]
     },
     "metadata": {},
     "output_type": "display_data"
    },
    {
     "data": {
      "text/plain": [
       "┏━━━━━━━━━━━━━━━━━━━━━┳━━━━━━━━━━━━━━━━━━━┳━━━━━━━━━━━━┳━━━━━━━━━━━━━━━━━━━┓\n",
       "┃\u001B[1m \u001B[0m\u001B[1mLayer (type)       \u001B[0m\u001B[1m \u001B[0m┃\u001B[1m \u001B[0m\u001B[1mOutput Shape     \u001B[0m\u001B[1m \u001B[0m┃\u001B[1m \u001B[0m\u001B[1m   Param #\u001B[0m\u001B[1m \u001B[0m┃\u001B[1m \u001B[0m\u001B[1mConnected to     \u001B[0m\u001B[1m \u001B[0m┃\n",
       "┡━━━━━━━━━━━━━━━━━━━━━╇━━━━━━━━━━━━━━━━━━━╇━━━━━━━━━━━━╇━━━━━━━━━━━━━━━━━━━┩\n",
       "│ input_layer         │ (\u001B[38;5;45mNone\u001B[0m, \u001B[38;5;34m30\u001B[0m, \u001B[38;5;34m128\u001B[0m,   │          \u001B[38;5;34m0\u001B[0m │ -                 │\n",
       "│ (\u001B[38;5;33mInputLayer\u001B[0m)        │ \u001B[38;5;34m1\u001B[0m)                │            │                   │\n",
       "├─────────────────────┼───────────────────┼────────────┼───────────────────┤\n",
       "│ conv2d (\u001B[38;5;33mConv2D\u001B[0m)     │ (\u001B[38;5;45mNone\u001B[0m, \u001B[38;5;34m30\u001B[0m, \u001B[38;5;34m128\u001B[0m,   │        \u001B[38;5;34m320\u001B[0m │ input_layer[\u001B[38;5;34m0\u001B[0m][\u001B[38;5;34m0\u001B[0m] │\n",
       "│                     │ \u001B[38;5;34m32\u001B[0m)               │            │                   │\n",
       "├─────────────────────┼───────────────────┼────────────┼───────────────────┤\n",
       "│ batch_normalization │ (\u001B[38;5;45mNone\u001B[0m, \u001B[38;5;34m30\u001B[0m, \u001B[38;5;34m128\u001B[0m,   │        \u001B[38;5;34m128\u001B[0m │ conv2d[\u001B[38;5;34m0\u001B[0m][\u001B[38;5;34m0\u001B[0m]      │\n",
       "│ (\u001B[38;5;33mBatchNormalizatio…\u001B[0m │ \u001B[38;5;34m32\u001B[0m)               │            │                   │\n",
       "├─────────────────────┼───────────────────┼────────────┼───────────────────┤\n",
       "│ conv2d_1 (\u001B[38;5;33mConv2D\u001B[0m)   │ (\u001B[38;5;45mNone\u001B[0m, \u001B[38;5;34m30\u001B[0m, \u001B[38;5;34m128\u001B[0m,   │         \u001B[38;5;34m64\u001B[0m │ input_layer[\u001B[38;5;34m0\u001B[0m][\u001B[38;5;34m0\u001B[0m] │\n",
       "│                     │ \u001B[38;5;34m32\u001B[0m)               │            │                   │\n",
       "├─────────────────────┼───────────────────┼────────────┼───────────────────┤\n",
       "│ activation          │ (\u001B[38;5;45mNone\u001B[0m, \u001B[38;5;34m30\u001B[0m, \u001B[38;5;34m128\u001B[0m,   │          \u001B[38;5;34m0\u001B[0m │ batch_normalizat… │\n",
       "│ (\u001B[38;5;33mActivation\u001B[0m)        │ \u001B[38;5;34m32\u001B[0m)               │            │                   │\n",
       "├─────────────────────┼───────────────────┼────────────┼───────────────────┤\n",
       "│ add (\u001B[38;5;33mAdd\u001B[0m)           │ (\u001B[38;5;45mNone\u001B[0m, \u001B[38;5;34m30\u001B[0m, \u001B[38;5;34m128\u001B[0m,   │          \u001B[38;5;34m0\u001B[0m │ conv2d_1[\u001B[38;5;34m0\u001B[0m][\u001B[38;5;34m0\u001B[0m],   │\n",
       "│                     │ \u001B[38;5;34m32\u001B[0m)               │            │ activation[\u001B[38;5;34m0\u001B[0m][\u001B[38;5;34m0\u001B[0m]  │\n",
       "├─────────────────────┼───────────────────┼────────────┼───────────────────┤\n",
       "│ activation_1        │ (\u001B[38;5;45mNone\u001B[0m, \u001B[38;5;34m30\u001B[0m, \u001B[38;5;34m128\u001B[0m,   │          \u001B[38;5;34m0\u001B[0m │ add[\u001B[38;5;34m0\u001B[0m][\u001B[38;5;34m0\u001B[0m]         │\n",
       "│ (\u001B[38;5;33mActivation\u001B[0m)        │ \u001B[38;5;34m32\u001B[0m)               │            │                   │\n",
       "├─────────────────────┼───────────────────┼────────────┼───────────────────┤\n",
       "│ conv2d_2 (\u001B[38;5;33mConv2D\u001B[0m)   │ (\u001B[38;5;45mNone\u001B[0m, \u001B[38;5;34m30\u001B[0m, \u001B[38;5;34m128\u001B[0m,   │      \u001B[38;5;34m4,624\u001B[0m │ activation_1[\u001B[38;5;34m0\u001B[0m][\u001B[38;5;34m…\u001B[0m │\n",
       "│                     │ \u001B[38;5;34m16\u001B[0m)               │            │                   │\n",
       "├─────────────────────┼───────────────────┼────────────┼───────────────────┤\n",
       "│ batch_normalizatio… │ (\u001B[38;5;45mNone\u001B[0m, \u001B[38;5;34m30\u001B[0m, \u001B[38;5;34m128\u001B[0m,   │         \u001B[38;5;34m64\u001B[0m │ conv2d_2[\u001B[38;5;34m0\u001B[0m][\u001B[38;5;34m0\u001B[0m]    │\n",
       "│ (\u001B[38;5;33mBatchNormalizatio…\u001B[0m │ \u001B[38;5;34m16\u001B[0m)               │            │                   │\n",
       "├─────────────────────┼───────────────────┼────────────┼───────────────────┤\n",
       "│ conv2d_3 (\u001B[38;5;33mConv2D\u001B[0m)   │ (\u001B[38;5;45mNone\u001B[0m, \u001B[38;5;34m30\u001B[0m, \u001B[38;5;34m128\u001B[0m,   │        \u001B[38;5;34m528\u001B[0m │ activation_1[\u001B[38;5;34m0\u001B[0m][\u001B[38;5;34m…\u001B[0m │\n",
       "│                     │ \u001B[38;5;34m16\u001B[0m)               │            │                   │\n",
       "├─────────────────────┼───────────────────┼────────────┼───────────────────┤\n",
       "│ activation_2        │ (\u001B[38;5;45mNone\u001B[0m, \u001B[38;5;34m30\u001B[0m, \u001B[38;5;34m128\u001B[0m,   │          \u001B[38;5;34m0\u001B[0m │ batch_normalizat… │\n",
       "│ (\u001B[38;5;33mActivation\u001B[0m)        │ \u001B[38;5;34m16\u001B[0m)               │            │                   │\n",
       "├─────────────────────┼───────────────────┼────────────┼───────────────────┤\n",
       "│ add_1 (\u001B[38;5;33mAdd\u001B[0m)         │ (\u001B[38;5;45mNone\u001B[0m, \u001B[38;5;34m30\u001B[0m, \u001B[38;5;34m128\u001B[0m,   │          \u001B[38;5;34m0\u001B[0m │ conv2d_3[\u001B[38;5;34m0\u001B[0m][\u001B[38;5;34m0\u001B[0m],   │\n",
       "│                     │ \u001B[38;5;34m16\u001B[0m)               │            │ activation_2[\u001B[38;5;34m0\u001B[0m][\u001B[38;5;34m…\u001B[0m │\n",
       "├─────────────────────┼───────────────────┼────────────┼───────────────────┤\n",
       "│ activation_3        │ (\u001B[38;5;45mNone\u001B[0m, \u001B[38;5;34m30\u001B[0m, \u001B[38;5;34m128\u001B[0m,   │          \u001B[38;5;34m0\u001B[0m │ add_1[\u001B[38;5;34m0\u001B[0m][\u001B[38;5;34m0\u001B[0m]       │\n",
       "│ (\u001B[38;5;33mActivation\u001B[0m)        │ \u001B[38;5;34m16\u001B[0m)               │            │                   │\n",
       "├─────────────────────┼───────────────────┼────────────┼───────────────────┤\n",
       "│ conv2d_4 (\u001B[38;5;33mConv2D\u001B[0m)   │ (\u001B[38;5;45mNone\u001B[0m, \u001B[38;5;34m15\u001B[0m, \u001B[38;5;34m64\u001B[0m,    │      \u001B[38;5;34m4,640\u001B[0m │ activation_3[\u001B[38;5;34m0\u001B[0m][\u001B[38;5;34m…\u001B[0m │\n",
       "│                     │ \u001B[38;5;34m32\u001B[0m)               │            │                   │\n",
       "├─────────────────────┼───────────────────┼────────────┼───────────────────┤\n",
       "│ batch_normalizatio… │ (\u001B[38;5;45mNone\u001B[0m, \u001B[38;5;34m15\u001B[0m, \u001B[38;5;34m64\u001B[0m,    │        \u001B[38;5;34m128\u001B[0m │ conv2d_4[\u001B[38;5;34m0\u001B[0m][\u001B[38;5;34m0\u001B[0m]    │\n",
       "│ (\u001B[38;5;33mBatchNormalizatio…\u001B[0m │ \u001B[38;5;34m32\u001B[0m)               │            │                   │\n",
       "├─────────────────────┼───────────────────┼────────────┼───────────────────┤\n",
       "│ conv2d_5 (\u001B[38;5;33mConv2D\u001B[0m)   │ (\u001B[38;5;45mNone\u001B[0m, \u001B[38;5;34m15\u001B[0m, \u001B[38;5;34m64\u001B[0m,    │        \u001B[38;5;34m544\u001B[0m │ activation_3[\u001B[38;5;34m0\u001B[0m][\u001B[38;5;34m…\u001B[0m │\n",
       "│                     │ \u001B[38;5;34m32\u001B[0m)               │            │                   │\n",
       "├─────────────────────┼───────────────────┼────────────┼───────────────────┤\n",
       "│ activation_4        │ (\u001B[38;5;45mNone\u001B[0m, \u001B[38;5;34m15\u001B[0m, \u001B[38;5;34m64\u001B[0m,    │          \u001B[38;5;34m0\u001B[0m │ batch_normalizat… │\n",
       "│ (\u001B[38;5;33mActivation\u001B[0m)        │ \u001B[38;5;34m32\u001B[0m)               │            │                   │\n",
       "├─────────────────────┼───────────────────┼────────────┼───────────────────┤\n",
       "│ add_2 (\u001B[38;5;33mAdd\u001B[0m)         │ (\u001B[38;5;45mNone\u001B[0m, \u001B[38;5;34m15\u001B[0m, \u001B[38;5;34m64\u001B[0m,    │          \u001B[38;5;34m0\u001B[0m │ conv2d_5[\u001B[38;5;34m0\u001B[0m][\u001B[38;5;34m0\u001B[0m],   │\n",
       "│                     │ \u001B[38;5;34m32\u001B[0m)               │            │ activation_4[\u001B[38;5;34m0\u001B[0m][\u001B[38;5;34m…\u001B[0m │\n",
       "├─────────────────────┼───────────────────┼────────────┼───────────────────┤\n",
       "│ activation_5        │ (\u001B[38;5;45mNone\u001B[0m, \u001B[38;5;34m15\u001B[0m, \u001B[38;5;34m64\u001B[0m,    │          \u001B[38;5;34m0\u001B[0m │ add_2[\u001B[38;5;34m0\u001B[0m][\u001B[38;5;34m0\u001B[0m]       │\n",
       "│ (\u001B[38;5;33mActivation\u001B[0m)        │ \u001B[38;5;34m32\u001B[0m)               │            │                   │\n",
       "├─────────────────────┼───────────────────┼────────────┼───────────────────┤\n",
       "│ conv2d_6 (\u001B[38;5;33mConv2D\u001B[0m)   │ (\u001B[38;5;45mNone\u001B[0m, \u001B[38;5;34m15\u001B[0m, \u001B[38;5;34m64\u001B[0m,    │      \u001B[38;5;34m4,624\u001B[0m │ activation_5[\u001B[38;5;34m0\u001B[0m][\u001B[38;5;34m…\u001B[0m │\n",
       "│                     │ \u001B[38;5;34m16\u001B[0m)               │            │                   │\n",
       "├─────────────────────┼───────────────────┼────────────┼───────────────────┤\n",
       "│ batch_normalizatio… │ (\u001B[38;5;45mNone\u001B[0m, \u001B[38;5;34m15\u001B[0m, \u001B[38;5;34m64\u001B[0m,    │         \u001B[38;5;34m64\u001B[0m │ conv2d_6[\u001B[38;5;34m0\u001B[0m][\u001B[38;5;34m0\u001B[0m]    │\n",
       "│ (\u001B[38;5;33mBatchNormalizatio…\u001B[0m │ \u001B[38;5;34m16\u001B[0m)               │            │                   │\n",
       "├─────────────────────┼───────────────────┼────────────┼───────────────────┤\n",
       "│ conv2d_7 (\u001B[38;5;33mConv2D\u001B[0m)   │ (\u001B[38;5;45mNone\u001B[0m, \u001B[38;5;34m15\u001B[0m, \u001B[38;5;34m64\u001B[0m,    │        \u001B[38;5;34m528\u001B[0m │ activation_5[\u001B[38;5;34m0\u001B[0m][\u001B[38;5;34m…\u001B[0m │\n",
       "│                     │ \u001B[38;5;34m16\u001B[0m)               │            │                   │\n",
       "├─────────────────────┼───────────────────┼────────────┼───────────────────┤\n",
       "│ activation_6        │ (\u001B[38;5;45mNone\u001B[0m, \u001B[38;5;34m15\u001B[0m, \u001B[38;5;34m64\u001B[0m,    │          \u001B[38;5;34m0\u001B[0m │ batch_normalizat… │\n",
       "│ (\u001B[38;5;33mActivation\u001B[0m)        │ \u001B[38;5;34m16\u001B[0m)               │            │                   │\n",
       "├─────────────────────┼───────────────────┼────────────┼───────────────────┤\n",
       "│ add_3 (\u001B[38;5;33mAdd\u001B[0m)         │ (\u001B[38;5;45mNone\u001B[0m, \u001B[38;5;34m15\u001B[0m, \u001B[38;5;34m64\u001B[0m,    │          \u001B[38;5;34m0\u001B[0m │ conv2d_7[\u001B[38;5;34m0\u001B[0m][\u001B[38;5;34m0\u001B[0m],   │\n",
       "│                     │ \u001B[38;5;34m16\u001B[0m)               │            │ activation_6[\u001B[38;5;34m0\u001B[0m][\u001B[38;5;34m…\u001B[0m │\n",
       "├─────────────────────┼───────────────────┼────────────┼───────────────────┤\n",
       "│ activation_7        │ (\u001B[38;5;45mNone\u001B[0m, \u001B[38;5;34m15\u001B[0m, \u001B[38;5;34m64\u001B[0m,    │          \u001B[38;5;34m0\u001B[0m │ add_3[\u001B[38;5;34m0\u001B[0m][\u001B[38;5;34m0\u001B[0m]       │\n",
       "│ (\u001B[38;5;33mActivation\u001B[0m)        │ \u001B[38;5;34m16\u001B[0m)               │            │                   │\n",
       "├─────────────────────┼───────────────────┼────────────┼───────────────────┤\n",
       "│ conv2d_8 (\u001B[38;5;33mConv2D\u001B[0m)   │ (\u001B[38;5;45mNone\u001B[0m, \u001B[38;5;34m8\u001B[0m, \u001B[38;5;34m32\u001B[0m, \u001B[38;5;34m32\u001B[0m) │      \u001B[38;5;34m4,640\u001B[0m │ activation_7[\u001B[38;5;34m0\u001B[0m][\u001B[38;5;34m…\u001B[0m │\n",
       "├─────────────────────┼───────────────────┼────────────┼───────────────────┤\n",
       "│ batch_normalizatio… │ (\u001B[38;5;45mNone\u001B[0m, \u001B[38;5;34m8\u001B[0m, \u001B[38;5;34m32\u001B[0m, \u001B[38;5;34m32\u001B[0m) │        \u001B[38;5;34m128\u001B[0m │ conv2d_8[\u001B[38;5;34m0\u001B[0m][\u001B[38;5;34m0\u001B[0m]    │\n",
       "│ (\u001B[38;5;33mBatchNormalizatio…\u001B[0m │                   │            │                   │\n",
       "├─────────────────────┼───────────────────┼────────────┼───────────────────┤\n",
       "│ conv2d_9 (\u001B[38;5;33mConv2D\u001B[0m)   │ (\u001B[38;5;45mNone\u001B[0m, \u001B[38;5;34m8\u001B[0m, \u001B[38;5;34m32\u001B[0m, \u001B[38;5;34m32\u001B[0m) │        \u001B[38;5;34m544\u001B[0m │ activation_7[\u001B[38;5;34m0\u001B[0m][\u001B[38;5;34m…\u001B[0m │\n",
       "├─────────────────────┼───────────────────┼────────────┼───────────────────┤\n",
       "│ activation_8        │ (\u001B[38;5;45mNone\u001B[0m, \u001B[38;5;34m8\u001B[0m, \u001B[38;5;34m32\u001B[0m, \u001B[38;5;34m32\u001B[0m) │          \u001B[38;5;34m0\u001B[0m │ batch_normalizat… │\n",
       "│ (\u001B[38;5;33mActivation\u001B[0m)        │                   │            │                   │\n",
       "├─────────────────────┼───────────────────┼────────────┼───────────────────┤\n",
       "│ add_4 (\u001B[38;5;33mAdd\u001B[0m)         │ (\u001B[38;5;45mNone\u001B[0m, \u001B[38;5;34m8\u001B[0m, \u001B[38;5;34m32\u001B[0m, \u001B[38;5;34m32\u001B[0m) │          \u001B[38;5;34m0\u001B[0m │ conv2d_9[\u001B[38;5;34m0\u001B[0m][\u001B[38;5;34m0\u001B[0m],   │\n",
       "│                     │                   │            │ activation_8[\u001B[38;5;34m0\u001B[0m][\u001B[38;5;34m…\u001B[0m │\n",
       "├─────────────────────┼───────────────────┼────────────┼───────────────────┤\n",
       "│ activation_9        │ (\u001B[38;5;45mNone\u001B[0m, \u001B[38;5;34m8\u001B[0m, \u001B[38;5;34m32\u001B[0m, \u001B[38;5;34m32\u001B[0m) │          \u001B[38;5;34m0\u001B[0m │ add_4[\u001B[38;5;34m0\u001B[0m][\u001B[38;5;34m0\u001B[0m]       │\n",
       "│ (\u001B[38;5;33mActivation\u001B[0m)        │                   │            │                   │\n",
       "├─────────────────────┼───────────────────┼────────────┼───────────────────┤\n",
       "│ conv2d_10 (\u001B[38;5;33mConv2D\u001B[0m)  │ (\u001B[38;5;45mNone\u001B[0m, \u001B[38;5;34m8\u001B[0m, \u001B[38;5;34m32\u001B[0m, \u001B[38;5;34m16\u001B[0m) │      \u001B[38;5;34m4,624\u001B[0m │ activation_9[\u001B[38;5;34m0\u001B[0m][\u001B[38;5;34m…\u001B[0m │\n",
       "├─────────────────────┼───────────────────┼────────────┼───────────────────┤\n",
       "│ batch_normalizatio… │ (\u001B[38;5;45mNone\u001B[0m, \u001B[38;5;34m8\u001B[0m, \u001B[38;5;34m32\u001B[0m, \u001B[38;5;34m16\u001B[0m) │         \u001B[38;5;34m64\u001B[0m │ conv2d_10[\u001B[38;5;34m0\u001B[0m][\u001B[38;5;34m0\u001B[0m]   │\n",
       "│ (\u001B[38;5;33mBatchNormalizatio…\u001B[0m │                   │            │                   │\n",
       "├─────────────────────┼───────────────────┼────────────┼───────────────────┤\n",
       "│ conv2d_11 (\u001B[38;5;33mConv2D\u001B[0m)  │ (\u001B[38;5;45mNone\u001B[0m, \u001B[38;5;34m8\u001B[0m, \u001B[38;5;34m32\u001B[0m, \u001B[38;5;34m16\u001B[0m) │        \u001B[38;5;34m528\u001B[0m │ activation_9[\u001B[38;5;34m0\u001B[0m][\u001B[38;5;34m…\u001B[0m │\n",
       "├─────────────────────┼───────────────────┼────────────┼───────────────────┤\n",
       "│ activation_10       │ (\u001B[38;5;45mNone\u001B[0m, \u001B[38;5;34m8\u001B[0m, \u001B[38;5;34m32\u001B[0m, \u001B[38;5;34m16\u001B[0m) │          \u001B[38;5;34m0\u001B[0m │ batch_normalizat… │\n",
       "│ (\u001B[38;5;33mActivation\u001B[0m)        │                   │            │                   │\n",
       "├─────────────────────┼───────────────────┼────────────┼───────────────────┤\n",
       "│ add_5 (\u001B[38;5;33mAdd\u001B[0m)         │ (\u001B[38;5;45mNone\u001B[0m, \u001B[38;5;34m8\u001B[0m, \u001B[38;5;34m32\u001B[0m, \u001B[38;5;34m16\u001B[0m) │          \u001B[38;5;34m0\u001B[0m │ conv2d_11[\u001B[38;5;34m0\u001B[0m][\u001B[38;5;34m0\u001B[0m],  │\n",
       "│                     │                   │            │ activation_10[\u001B[38;5;34m0\u001B[0m]… │\n",
       "├─────────────────────┼───────────────────┼────────────┼───────────────────┤\n",
       "│ activation_11       │ (\u001B[38;5;45mNone\u001B[0m, \u001B[38;5;34m8\u001B[0m, \u001B[38;5;34m32\u001B[0m, \u001B[38;5;34m16\u001B[0m) │          \u001B[38;5;34m0\u001B[0m │ add_5[\u001B[38;5;34m0\u001B[0m][\u001B[38;5;34m0\u001B[0m]       │\n",
       "│ (\u001B[38;5;33mActivation\u001B[0m)        │                   │            │                   │\n",
       "├─────────────────────┼───────────────────┼────────────┼───────────────────┤\n",
       "│ global_average_poo… │ (\u001B[38;5;45mNone\u001B[0m, \u001B[38;5;34m16\u001B[0m)        │          \u001B[38;5;34m0\u001B[0m │ activation_11[\u001B[38;5;34m0\u001B[0m]… │\n",
       "│ (\u001B[38;5;33mGlobalAveragePool…\u001B[0m │                   │            │                   │\n",
       "├─────────────────────┼───────────────────┼────────────┼───────────────────┤\n",
       "│ dense (\u001B[38;5;33mDense\u001B[0m)       │ (\u001B[38;5;45mNone\u001B[0m, \u001B[38;5;34m3\u001B[0m)         │         \u001B[38;5;34m51\u001B[0m │ global_average_p… │\n",
       "└─────────────────────┴───────────────────┴────────────┴───────────────────┘\n"
      ],
      "text/html": [
       "<pre style=\"white-space:pre;overflow-x:auto;line-height:normal;font-family:Menlo,'DejaVu Sans Mono',consolas,'Courier New',monospace\">┏━━━━━━━━━━━━━━━━━━━━━┳━━━━━━━━━━━━━━━━━━━┳━━━━━━━━━━━━┳━━━━━━━━━━━━━━━━━━━┓\n",
       "┃<span style=\"font-weight: bold\"> Layer (type)        </span>┃<span style=\"font-weight: bold\"> Output Shape      </span>┃<span style=\"font-weight: bold\">    Param # </span>┃<span style=\"font-weight: bold\"> Connected to      </span>┃\n",
       "┡━━━━━━━━━━━━━━━━━━━━━╇━━━━━━━━━━━━━━━━━━━╇━━━━━━━━━━━━╇━━━━━━━━━━━━━━━━━━━┩\n",
       "│ input_layer         │ (<span style=\"color: #00d7ff; text-decoration-color: #00d7ff\">None</span>, <span style=\"color: #00af00; text-decoration-color: #00af00\">30</span>, <span style=\"color: #00af00; text-decoration-color: #00af00\">128</span>,   │          <span style=\"color: #00af00; text-decoration-color: #00af00\">0</span> │ -                 │\n",
       "│ (<span style=\"color: #0087ff; text-decoration-color: #0087ff\">InputLayer</span>)        │ <span style=\"color: #00af00; text-decoration-color: #00af00\">1</span>)                │            │                   │\n",
       "├─────────────────────┼───────────────────┼────────────┼───────────────────┤\n",
       "│ conv2d (<span style=\"color: #0087ff; text-decoration-color: #0087ff\">Conv2D</span>)     │ (<span style=\"color: #00d7ff; text-decoration-color: #00d7ff\">None</span>, <span style=\"color: #00af00; text-decoration-color: #00af00\">30</span>, <span style=\"color: #00af00; text-decoration-color: #00af00\">128</span>,   │        <span style=\"color: #00af00; text-decoration-color: #00af00\">320</span> │ input_layer[<span style=\"color: #00af00; text-decoration-color: #00af00\">0</span>][<span style=\"color: #00af00; text-decoration-color: #00af00\">0</span>] │\n",
       "│                     │ <span style=\"color: #00af00; text-decoration-color: #00af00\">32</span>)               │            │                   │\n",
       "├─────────────────────┼───────────────────┼────────────┼───────────────────┤\n",
       "│ batch_normalization │ (<span style=\"color: #00d7ff; text-decoration-color: #00d7ff\">None</span>, <span style=\"color: #00af00; text-decoration-color: #00af00\">30</span>, <span style=\"color: #00af00; text-decoration-color: #00af00\">128</span>,   │        <span style=\"color: #00af00; text-decoration-color: #00af00\">128</span> │ conv2d[<span style=\"color: #00af00; text-decoration-color: #00af00\">0</span>][<span style=\"color: #00af00; text-decoration-color: #00af00\">0</span>]      │\n",
       "│ (<span style=\"color: #0087ff; text-decoration-color: #0087ff\">BatchNormalizatio…</span> │ <span style=\"color: #00af00; text-decoration-color: #00af00\">32</span>)               │            │                   │\n",
       "├─────────────────────┼───────────────────┼────────────┼───────────────────┤\n",
       "│ conv2d_1 (<span style=\"color: #0087ff; text-decoration-color: #0087ff\">Conv2D</span>)   │ (<span style=\"color: #00d7ff; text-decoration-color: #00d7ff\">None</span>, <span style=\"color: #00af00; text-decoration-color: #00af00\">30</span>, <span style=\"color: #00af00; text-decoration-color: #00af00\">128</span>,   │         <span style=\"color: #00af00; text-decoration-color: #00af00\">64</span> │ input_layer[<span style=\"color: #00af00; text-decoration-color: #00af00\">0</span>][<span style=\"color: #00af00; text-decoration-color: #00af00\">0</span>] │\n",
       "│                     │ <span style=\"color: #00af00; text-decoration-color: #00af00\">32</span>)               │            │                   │\n",
       "├─────────────────────┼───────────────────┼────────────┼───────────────────┤\n",
       "│ activation          │ (<span style=\"color: #00d7ff; text-decoration-color: #00d7ff\">None</span>, <span style=\"color: #00af00; text-decoration-color: #00af00\">30</span>, <span style=\"color: #00af00; text-decoration-color: #00af00\">128</span>,   │          <span style=\"color: #00af00; text-decoration-color: #00af00\">0</span> │ batch_normalizat… │\n",
       "│ (<span style=\"color: #0087ff; text-decoration-color: #0087ff\">Activation</span>)        │ <span style=\"color: #00af00; text-decoration-color: #00af00\">32</span>)               │            │                   │\n",
       "├─────────────────────┼───────────────────┼────────────┼───────────────────┤\n",
       "│ add (<span style=\"color: #0087ff; text-decoration-color: #0087ff\">Add</span>)           │ (<span style=\"color: #00d7ff; text-decoration-color: #00d7ff\">None</span>, <span style=\"color: #00af00; text-decoration-color: #00af00\">30</span>, <span style=\"color: #00af00; text-decoration-color: #00af00\">128</span>,   │          <span style=\"color: #00af00; text-decoration-color: #00af00\">0</span> │ conv2d_1[<span style=\"color: #00af00; text-decoration-color: #00af00\">0</span>][<span style=\"color: #00af00; text-decoration-color: #00af00\">0</span>],   │\n",
       "│                     │ <span style=\"color: #00af00; text-decoration-color: #00af00\">32</span>)               │            │ activation[<span style=\"color: #00af00; text-decoration-color: #00af00\">0</span>][<span style=\"color: #00af00; text-decoration-color: #00af00\">0</span>]  │\n",
       "├─────────────────────┼───────────────────┼────────────┼───────────────────┤\n",
       "│ activation_1        │ (<span style=\"color: #00d7ff; text-decoration-color: #00d7ff\">None</span>, <span style=\"color: #00af00; text-decoration-color: #00af00\">30</span>, <span style=\"color: #00af00; text-decoration-color: #00af00\">128</span>,   │          <span style=\"color: #00af00; text-decoration-color: #00af00\">0</span> │ add[<span style=\"color: #00af00; text-decoration-color: #00af00\">0</span>][<span style=\"color: #00af00; text-decoration-color: #00af00\">0</span>]         │\n",
       "│ (<span style=\"color: #0087ff; text-decoration-color: #0087ff\">Activation</span>)        │ <span style=\"color: #00af00; text-decoration-color: #00af00\">32</span>)               │            │                   │\n",
       "├─────────────────────┼───────────────────┼────────────┼───────────────────┤\n",
       "│ conv2d_2 (<span style=\"color: #0087ff; text-decoration-color: #0087ff\">Conv2D</span>)   │ (<span style=\"color: #00d7ff; text-decoration-color: #00d7ff\">None</span>, <span style=\"color: #00af00; text-decoration-color: #00af00\">30</span>, <span style=\"color: #00af00; text-decoration-color: #00af00\">128</span>,   │      <span style=\"color: #00af00; text-decoration-color: #00af00\">4,624</span> │ activation_1[<span style=\"color: #00af00; text-decoration-color: #00af00\">0</span>][<span style=\"color: #00af00; text-decoration-color: #00af00\">…</span> │\n",
       "│                     │ <span style=\"color: #00af00; text-decoration-color: #00af00\">16</span>)               │            │                   │\n",
       "├─────────────────────┼───────────────────┼────────────┼───────────────────┤\n",
       "│ batch_normalizatio… │ (<span style=\"color: #00d7ff; text-decoration-color: #00d7ff\">None</span>, <span style=\"color: #00af00; text-decoration-color: #00af00\">30</span>, <span style=\"color: #00af00; text-decoration-color: #00af00\">128</span>,   │         <span style=\"color: #00af00; text-decoration-color: #00af00\">64</span> │ conv2d_2[<span style=\"color: #00af00; text-decoration-color: #00af00\">0</span>][<span style=\"color: #00af00; text-decoration-color: #00af00\">0</span>]    │\n",
       "│ (<span style=\"color: #0087ff; text-decoration-color: #0087ff\">BatchNormalizatio…</span> │ <span style=\"color: #00af00; text-decoration-color: #00af00\">16</span>)               │            │                   │\n",
       "├─────────────────────┼───────────────────┼────────────┼───────────────────┤\n",
       "│ conv2d_3 (<span style=\"color: #0087ff; text-decoration-color: #0087ff\">Conv2D</span>)   │ (<span style=\"color: #00d7ff; text-decoration-color: #00d7ff\">None</span>, <span style=\"color: #00af00; text-decoration-color: #00af00\">30</span>, <span style=\"color: #00af00; text-decoration-color: #00af00\">128</span>,   │        <span style=\"color: #00af00; text-decoration-color: #00af00\">528</span> │ activation_1[<span style=\"color: #00af00; text-decoration-color: #00af00\">0</span>][<span style=\"color: #00af00; text-decoration-color: #00af00\">…</span> │\n",
       "│                     │ <span style=\"color: #00af00; text-decoration-color: #00af00\">16</span>)               │            │                   │\n",
       "├─────────────────────┼───────────────────┼────────────┼───────────────────┤\n",
       "│ activation_2        │ (<span style=\"color: #00d7ff; text-decoration-color: #00d7ff\">None</span>, <span style=\"color: #00af00; text-decoration-color: #00af00\">30</span>, <span style=\"color: #00af00; text-decoration-color: #00af00\">128</span>,   │          <span style=\"color: #00af00; text-decoration-color: #00af00\">0</span> │ batch_normalizat… │\n",
       "│ (<span style=\"color: #0087ff; text-decoration-color: #0087ff\">Activation</span>)        │ <span style=\"color: #00af00; text-decoration-color: #00af00\">16</span>)               │            │                   │\n",
       "├─────────────────────┼───────────────────┼────────────┼───────────────────┤\n",
       "│ add_1 (<span style=\"color: #0087ff; text-decoration-color: #0087ff\">Add</span>)         │ (<span style=\"color: #00d7ff; text-decoration-color: #00d7ff\">None</span>, <span style=\"color: #00af00; text-decoration-color: #00af00\">30</span>, <span style=\"color: #00af00; text-decoration-color: #00af00\">128</span>,   │          <span style=\"color: #00af00; text-decoration-color: #00af00\">0</span> │ conv2d_3[<span style=\"color: #00af00; text-decoration-color: #00af00\">0</span>][<span style=\"color: #00af00; text-decoration-color: #00af00\">0</span>],   │\n",
       "│                     │ <span style=\"color: #00af00; text-decoration-color: #00af00\">16</span>)               │            │ activation_2[<span style=\"color: #00af00; text-decoration-color: #00af00\">0</span>][<span style=\"color: #00af00; text-decoration-color: #00af00\">…</span> │\n",
       "├─────────────────────┼───────────────────┼────────────┼───────────────────┤\n",
       "│ activation_3        │ (<span style=\"color: #00d7ff; text-decoration-color: #00d7ff\">None</span>, <span style=\"color: #00af00; text-decoration-color: #00af00\">30</span>, <span style=\"color: #00af00; text-decoration-color: #00af00\">128</span>,   │          <span style=\"color: #00af00; text-decoration-color: #00af00\">0</span> │ add_1[<span style=\"color: #00af00; text-decoration-color: #00af00\">0</span>][<span style=\"color: #00af00; text-decoration-color: #00af00\">0</span>]       │\n",
       "│ (<span style=\"color: #0087ff; text-decoration-color: #0087ff\">Activation</span>)        │ <span style=\"color: #00af00; text-decoration-color: #00af00\">16</span>)               │            │                   │\n",
       "├─────────────────────┼───────────────────┼────────────┼───────────────────┤\n",
       "│ conv2d_4 (<span style=\"color: #0087ff; text-decoration-color: #0087ff\">Conv2D</span>)   │ (<span style=\"color: #00d7ff; text-decoration-color: #00d7ff\">None</span>, <span style=\"color: #00af00; text-decoration-color: #00af00\">15</span>, <span style=\"color: #00af00; text-decoration-color: #00af00\">64</span>,    │      <span style=\"color: #00af00; text-decoration-color: #00af00\">4,640</span> │ activation_3[<span style=\"color: #00af00; text-decoration-color: #00af00\">0</span>][<span style=\"color: #00af00; text-decoration-color: #00af00\">…</span> │\n",
       "│                     │ <span style=\"color: #00af00; text-decoration-color: #00af00\">32</span>)               │            │                   │\n",
       "├─────────────────────┼───────────────────┼────────────┼───────────────────┤\n",
       "│ batch_normalizatio… │ (<span style=\"color: #00d7ff; text-decoration-color: #00d7ff\">None</span>, <span style=\"color: #00af00; text-decoration-color: #00af00\">15</span>, <span style=\"color: #00af00; text-decoration-color: #00af00\">64</span>,    │        <span style=\"color: #00af00; text-decoration-color: #00af00\">128</span> │ conv2d_4[<span style=\"color: #00af00; text-decoration-color: #00af00\">0</span>][<span style=\"color: #00af00; text-decoration-color: #00af00\">0</span>]    │\n",
       "│ (<span style=\"color: #0087ff; text-decoration-color: #0087ff\">BatchNormalizatio…</span> │ <span style=\"color: #00af00; text-decoration-color: #00af00\">32</span>)               │            │                   │\n",
       "├─────────────────────┼───────────────────┼────────────┼───────────────────┤\n",
       "│ conv2d_5 (<span style=\"color: #0087ff; text-decoration-color: #0087ff\">Conv2D</span>)   │ (<span style=\"color: #00d7ff; text-decoration-color: #00d7ff\">None</span>, <span style=\"color: #00af00; text-decoration-color: #00af00\">15</span>, <span style=\"color: #00af00; text-decoration-color: #00af00\">64</span>,    │        <span style=\"color: #00af00; text-decoration-color: #00af00\">544</span> │ activation_3[<span style=\"color: #00af00; text-decoration-color: #00af00\">0</span>][<span style=\"color: #00af00; text-decoration-color: #00af00\">…</span> │\n",
       "│                     │ <span style=\"color: #00af00; text-decoration-color: #00af00\">32</span>)               │            │                   │\n",
       "├─────────────────────┼───────────────────┼────────────┼───────────────────┤\n",
       "│ activation_4        │ (<span style=\"color: #00d7ff; text-decoration-color: #00d7ff\">None</span>, <span style=\"color: #00af00; text-decoration-color: #00af00\">15</span>, <span style=\"color: #00af00; text-decoration-color: #00af00\">64</span>,    │          <span style=\"color: #00af00; text-decoration-color: #00af00\">0</span> │ batch_normalizat… │\n",
       "│ (<span style=\"color: #0087ff; text-decoration-color: #0087ff\">Activation</span>)        │ <span style=\"color: #00af00; text-decoration-color: #00af00\">32</span>)               │            │                   │\n",
       "├─────────────────────┼───────────────────┼────────────┼───────────────────┤\n",
       "│ add_2 (<span style=\"color: #0087ff; text-decoration-color: #0087ff\">Add</span>)         │ (<span style=\"color: #00d7ff; text-decoration-color: #00d7ff\">None</span>, <span style=\"color: #00af00; text-decoration-color: #00af00\">15</span>, <span style=\"color: #00af00; text-decoration-color: #00af00\">64</span>,    │          <span style=\"color: #00af00; text-decoration-color: #00af00\">0</span> │ conv2d_5[<span style=\"color: #00af00; text-decoration-color: #00af00\">0</span>][<span style=\"color: #00af00; text-decoration-color: #00af00\">0</span>],   │\n",
       "│                     │ <span style=\"color: #00af00; text-decoration-color: #00af00\">32</span>)               │            │ activation_4[<span style=\"color: #00af00; text-decoration-color: #00af00\">0</span>][<span style=\"color: #00af00; text-decoration-color: #00af00\">…</span> │\n",
       "├─────────────────────┼───────────────────┼────────────┼───────────────────┤\n",
       "│ activation_5        │ (<span style=\"color: #00d7ff; text-decoration-color: #00d7ff\">None</span>, <span style=\"color: #00af00; text-decoration-color: #00af00\">15</span>, <span style=\"color: #00af00; text-decoration-color: #00af00\">64</span>,    │          <span style=\"color: #00af00; text-decoration-color: #00af00\">0</span> │ add_2[<span style=\"color: #00af00; text-decoration-color: #00af00\">0</span>][<span style=\"color: #00af00; text-decoration-color: #00af00\">0</span>]       │\n",
       "│ (<span style=\"color: #0087ff; text-decoration-color: #0087ff\">Activation</span>)        │ <span style=\"color: #00af00; text-decoration-color: #00af00\">32</span>)               │            │                   │\n",
       "├─────────────────────┼───────────────────┼────────────┼───────────────────┤\n",
       "│ conv2d_6 (<span style=\"color: #0087ff; text-decoration-color: #0087ff\">Conv2D</span>)   │ (<span style=\"color: #00d7ff; text-decoration-color: #00d7ff\">None</span>, <span style=\"color: #00af00; text-decoration-color: #00af00\">15</span>, <span style=\"color: #00af00; text-decoration-color: #00af00\">64</span>,    │      <span style=\"color: #00af00; text-decoration-color: #00af00\">4,624</span> │ activation_5[<span style=\"color: #00af00; text-decoration-color: #00af00\">0</span>][<span style=\"color: #00af00; text-decoration-color: #00af00\">…</span> │\n",
       "│                     │ <span style=\"color: #00af00; text-decoration-color: #00af00\">16</span>)               │            │                   │\n",
       "├─────────────────────┼───────────────────┼────────────┼───────────────────┤\n",
       "│ batch_normalizatio… │ (<span style=\"color: #00d7ff; text-decoration-color: #00d7ff\">None</span>, <span style=\"color: #00af00; text-decoration-color: #00af00\">15</span>, <span style=\"color: #00af00; text-decoration-color: #00af00\">64</span>,    │         <span style=\"color: #00af00; text-decoration-color: #00af00\">64</span> │ conv2d_6[<span style=\"color: #00af00; text-decoration-color: #00af00\">0</span>][<span style=\"color: #00af00; text-decoration-color: #00af00\">0</span>]    │\n",
       "│ (<span style=\"color: #0087ff; text-decoration-color: #0087ff\">BatchNormalizatio…</span> │ <span style=\"color: #00af00; text-decoration-color: #00af00\">16</span>)               │            │                   │\n",
       "├─────────────────────┼───────────────────┼────────────┼───────────────────┤\n",
       "│ conv2d_7 (<span style=\"color: #0087ff; text-decoration-color: #0087ff\">Conv2D</span>)   │ (<span style=\"color: #00d7ff; text-decoration-color: #00d7ff\">None</span>, <span style=\"color: #00af00; text-decoration-color: #00af00\">15</span>, <span style=\"color: #00af00; text-decoration-color: #00af00\">64</span>,    │        <span style=\"color: #00af00; text-decoration-color: #00af00\">528</span> │ activation_5[<span style=\"color: #00af00; text-decoration-color: #00af00\">0</span>][<span style=\"color: #00af00; text-decoration-color: #00af00\">…</span> │\n",
       "│                     │ <span style=\"color: #00af00; text-decoration-color: #00af00\">16</span>)               │            │                   │\n",
       "├─────────────────────┼───────────────────┼────────────┼───────────────────┤\n",
       "│ activation_6        │ (<span style=\"color: #00d7ff; text-decoration-color: #00d7ff\">None</span>, <span style=\"color: #00af00; text-decoration-color: #00af00\">15</span>, <span style=\"color: #00af00; text-decoration-color: #00af00\">64</span>,    │          <span style=\"color: #00af00; text-decoration-color: #00af00\">0</span> │ batch_normalizat… │\n",
       "│ (<span style=\"color: #0087ff; text-decoration-color: #0087ff\">Activation</span>)        │ <span style=\"color: #00af00; text-decoration-color: #00af00\">16</span>)               │            │                   │\n",
       "├─────────────────────┼───────────────────┼────────────┼───────────────────┤\n",
       "│ add_3 (<span style=\"color: #0087ff; text-decoration-color: #0087ff\">Add</span>)         │ (<span style=\"color: #00d7ff; text-decoration-color: #00d7ff\">None</span>, <span style=\"color: #00af00; text-decoration-color: #00af00\">15</span>, <span style=\"color: #00af00; text-decoration-color: #00af00\">64</span>,    │          <span style=\"color: #00af00; text-decoration-color: #00af00\">0</span> │ conv2d_7[<span style=\"color: #00af00; text-decoration-color: #00af00\">0</span>][<span style=\"color: #00af00; text-decoration-color: #00af00\">0</span>],   │\n",
       "│                     │ <span style=\"color: #00af00; text-decoration-color: #00af00\">16</span>)               │            │ activation_6[<span style=\"color: #00af00; text-decoration-color: #00af00\">0</span>][<span style=\"color: #00af00; text-decoration-color: #00af00\">…</span> │\n",
       "├─────────────────────┼───────────────────┼────────────┼───────────────────┤\n",
       "│ activation_7        │ (<span style=\"color: #00d7ff; text-decoration-color: #00d7ff\">None</span>, <span style=\"color: #00af00; text-decoration-color: #00af00\">15</span>, <span style=\"color: #00af00; text-decoration-color: #00af00\">64</span>,    │          <span style=\"color: #00af00; text-decoration-color: #00af00\">0</span> │ add_3[<span style=\"color: #00af00; text-decoration-color: #00af00\">0</span>][<span style=\"color: #00af00; text-decoration-color: #00af00\">0</span>]       │\n",
       "│ (<span style=\"color: #0087ff; text-decoration-color: #0087ff\">Activation</span>)        │ <span style=\"color: #00af00; text-decoration-color: #00af00\">16</span>)               │            │                   │\n",
       "├─────────────────────┼───────────────────┼────────────┼───────────────────┤\n",
       "│ conv2d_8 (<span style=\"color: #0087ff; text-decoration-color: #0087ff\">Conv2D</span>)   │ (<span style=\"color: #00d7ff; text-decoration-color: #00d7ff\">None</span>, <span style=\"color: #00af00; text-decoration-color: #00af00\">8</span>, <span style=\"color: #00af00; text-decoration-color: #00af00\">32</span>, <span style=\"color: #00af00; text-decoration-color: #00af00\">32</span>) │      <span style=\"color: #00af00; text-decoration-color: #00af00\">4,640</span> │ activation_7[<span style=\"color: #00af00; text-decoration-color: #00af00\">0</span>][<span style=\"color: #00af00; text-decoration-color: #00af00\">…</span> │\n",
       "├─────────────────────┼───────────────────┼────────────┼───────────────────┤\n",
       "│ batch_normalizatio… │ (<span style=\"color: #00d7ff; text-decoration-color: #00d7ff\">None</span>, <span style=\"color: #00af00; text-decoration-color: #00af00\">8</span>, <span style=\"color: #00af00; text-decoration-color: #00af00\">32</span>, <span style=\"color: #00af00; text-decoration-color: #00af00\">32</span>) │        <span style=\"color: #00af00; text-decoration-color: #00af00\">128</span> │ conv2d_8[<span style=\"color: #00af00; text-decoration-color: #00af00\">0</span>][<span style=\"color: #00af00; text-decoration-color: #00af00\">0</span>]    │\n",
       "│ (<span style=\"color: #0087ff; text-decoration-color: #0087ff\">BatchNormalizatio…</span> │                   │            │                   │\n",
       "├─────────────────────┼───────────────────┼────────────┼───────────────────┤\n",
       "│ conv2d_9 (<span style=\"color: #0087ff; text-decoration-color: #0087ff\">Conv2D</span>)   │ (<span style=\"color: #00d7ff; text-decoration-color: #00d7ff\">None</span>, <span style=\"color: #00af00; text-decoration-color: #00af00\">8</span>, <span style=\"color: #00af00; text-decoration-color: #00af00\">32</span>, <span style=\"color: #00af00; text-decoration-color: #00af00\">32</span>) │        <span style=\"color: #00af00; text-decoration-color: #00af00\">544</span> │ activation_7[<span style=\"color: #00af00; text-decoration-color: #00af00\">0</span>][<span style=\"color: #00af00; text-decoration-color: #00af00\">…</span> │\n",
       "├─────────────────────┼───────────────────┼────────────┼───────────────────┤\n",
       "│ activation_8        │ (<span style=\"color: #00d7ff; text-decoration-color: #00d7ff\">None</span>, <span style=\"color: #00af00; text-decoration-color: #00af00\">8</span>, <span style=\"color: #00af00; text-decoration-color: #00af00\">32</span>, <span style=\"color: #00af00; text-decoration-color: #00af00\">32</span>) │          <span style=\"color: #00af00; text-decoration-color: #00af00\">0</span> │ batch_normalizat… │\n",
       "│ (<span style=\"color: #0087ff; text-decoration-color: #0087ff\">Activation</span>)        │                   │            │                   │\n",
       "├─────────────────────┼───────────────────┼────────────┼───────────────────┤\n",
       "│ add_4 (<span style=\"color: #0087ff; text-decoration-color: #0087ff\">Add</span>)         │ (<span style=\"color: #00d7ff; text-decoration-color: #00d7ff\">None</span>, <span style=\"color: #00af00; text-decoration-color: #00af00\">8</span>, <span style=\"color: #00af00; text-decoration-color: #00af00\">32</span>, <span style=\"color: #00af00; text-decoration-color: #00af00\">32</span>) │          <span style=\"color: #00af00; text-decoration-color: #00af00\">0</span> │ conv2d_9[<span style=\"color: #00af00; text-decoration-color: #00af00\">0</span>][<span style=\"color: #00af00; text-decoration-color: #00af00\">0</span>],   │\n",
       "│                     │                   │            │ activation_8[<span style=\"color: #00af00; text-decoration-color: #00af00\">0</span>][<span style=\"color: #00af00; text-decoration-color: #00af00\">…</span> │\n",
       "├─────────────────────┼───────────────────┼────────────┼───────────────────┤\n",
       "│ activation_9        │ (<span style=\"color: #00d7ff; text-decoration-color: #00d7ff\">None</span>, <span style=\"color: #00af00; text-decoration-color: #00af00\">8</span>, <span style=\"color: #00af00; text-decoration-color: #00af00\">32</span>, <span style=\"color: #00af00; text-decoration-color: #00af00\">32</span>) │          <span style=\"color: #00af00; text-decoration-color: #00af00\">0</span> │ add_4[<span style=\"color: #00af00; text-decoration-color: #00af00\">0</span>][<span style=\"color: #00af00; text-decoration-color: #00af00\">0</span>]       │\n",
       "│ (<span style=\"color: #0087ff; text-decoration-color: #0087ff\">Activation</span>)        │                   │            │                   │\n",
       "├─────────────────────┼───────────────────┼────────────┼───────────────────┤\n",
       "│ conv2d_10 (<span style=\"color: #0087ff; text-decoration-color: #0087ff\">Conv2D</span>)  │ (<span style=\"color: #00d7ff; text-decoration-color: #00d7ff\">None</span>, <span style=\"color: #00af00; text-decoration-color: #00af00\">8</span>, <span style=\"color: #00af00; text-decoration-color: #00af00\">32</span>, <span style=\"color: #00af00; text-decoration-color: #00af00\">16</span>) │      <span style=\"color: #00af00; text-decoration-color: #00af00\">4,624</span> │ activation_9[<span style=\"color: #00af00; text-decoration-color: #00af00\">0</span>][<span style=\"color: #00af00; text-decoration-color: #00af00\">…</span> │\n",
       "├─────────────────────┼───────────────────┼────────────┼───────────────────┤\n",
       "│ batch_normalizatio… │ (<span style=\"color: #00d7ff; text-decoration-color: #00d7ff\">None</span>, <span style=\"color: #00af00; text-decoration-color: #00af00\">8</span>, <span style=\"color: #00af00; text-decoration-color: #00af00\">32</span>, <span style=\"color: #00af00; text-decoration-color: #00af00\">16</span>) │         <span style=\"color: #00af00; text-decoration-color: #00af00\">64</span> │ conv2d_10[<span style=\"color: #00af00; text-decoration-color: #00af00\">0</span>][<span style=\"color: #00af00; text-decoration-color: #00af00\">0</span>]   │\n",
       "│ (<span style=\"color: #0087ff; text-decoration-color: #0087ff\">BatchNormalizatio…</span> │                   │            │                   │\n",
       "├─────────────────────┼───────────────────┼────────────┼───────────────────┤\n",
       "│ conv2d_11 (<span style=\"color: #0087ff; text-decoration-color: #0087ff\">Conv2D</span>)  │ (<span style=\"color: #00d7ff; text-decoration-color: #00d7ff\">None</span>, <span style=\"color: #00af00; text-decoration-color: #00af00\">8</span>, <span style=\"color: #00af00; text-decoration-color: #00af00\">32</span>, <span style=\"color: #00af00; text-decoration-color: #00af00\">16</span>) │        <span style=\"color: #00af00; text-decoration-color: #00af00\">528</span> │ activation_9[<span style=\"color: #00af00; text-decoration-color: #00af00\">0</span>][<span style=\"color: #00af00; text-decoration-color: #00af00\">…</span> │\n",
       "├─────────────────────┼───────────────────┼────────────┼───────────────────┤\n",
       "│ activation_10       │ (<span style=\"color: #00d7ff; text-decoration-color: #00d7ff\">None</span>, <span style=\"color: #00af00; text-decoration-color: #00af00\">8</span>, <span style=\"color: #00af00; text-decoration-color: #00af00\">32</span>, <span style=\"color: #00af00; text-decoration-color: #00af00\">16</span>) │          <span style=\"color: #00af00; text-decoration-color: #00af00\">0</span> │ batch_normalizat… │\n",
       "│ (<span style=\"color: #0087ff; text-decoration-color: #0087ff\">Activation</span>)        │                   │            │                   │\n",
       "├─────────────────────┼───────────────────┼────────────┼───────────────────┤\n",
       "│ add_5 (<span style=\"color: #0087ff; text-decoration-color: #0087ff\">Add</span>)         │ (<span style=\"color: #00d7ff; text-decoration-color: #00d7ff\">None</span>, <span style=\"color: #00af00; text-decoration-color: #00af00\">8</span>, <span style=\"color: #00af00; text-decoration-color: #00af00\">32</span>, <span style=\"color: #00af00; text-decoration-color: #00af00\">16</span>) │          <span style=\"color: #00af00; text-decoration-color: #00af00\">0</span> │ conv2d_11[<span style=\"color: #00af00; text-decoration-color: #00af00\">0</span>][<span style=\"color: #00af00; text-decoration-color: #00af00\">0</span>],  │\n",
       "│                     │                   │            │ activation_10[<span style=\"color: #00af00; text-decoration-color: #00af00\">0</span>]… │\n",
       "├─────────────────────┼───────────────────┼────────────┼───────────────────┤\n",
       "│ activation_11       │ (<span style=\"color: #00d7ff; text-decoration-color: #00d7ff\">None</span>, <span style=\"color: #00af00; text-decoration-color: #00af00\">8</span>, <span style=\"color: #00af00; text-decoration-color: #00af00\">32</span>, <span style=\"color: #00af00; text-decoration-color: #00af00\">16</span>) │          <span style=\"color: #00af00; text-decoration-color: #00af00\">0</span> │ add_5[<span style=\"color: #00af00; text-decoration-color: #00af00\">0</span>][<span style=\"color: #00af00; text-decoration-color: #00af00\">0</span>]       │\n",
       "│ (<span style=\"color: #0087ff; text-decoration-color: #0087ff\">Activation</span>)        │                   │            │                   │\n",
       "├─────────────────────┼───────────────────┼────────────┼───────────────────┤\n",
       "│ global_average_poo… │ (<span style=\"color: #00d7ff; text-decoration-color: #00d7ff\">None</span>, <span style=\"color: #00af00; text-decoration-color: #00af00\">16</span>)        │          <span style=\"color: #00af00; text-decoration-color: #00af00\">0</span> │ activation_11[<span style=\"color: #00af00; text-decoration-color: #00af00\">0</span>]… │\n",
       "│ (<span style=\"color: #0087ff; text-decoration-color: #0087ff\">GlobalAveragePool…</span> │                   │            │                   │\n",
       "├─────────────────────┼───────────────────┼────────────┼───────────────────┤\n",
       "│ dense (<span style=\"color: #0087ff; text-decoration-color: #0087ff\">Dense</span>)       │ (<span style=\"color: #00d7ff; text-decoration-color: #00d7ff\">None</span>, <span style=\"color: #00af00; text-decoration-color: #00af00\">3</span>)         │         <span style=\"color: #00af00; text-decoration-color: #00af00\">51</span> │ global_average_p… │\n",
       "└─────────────────────┴───────────────────┴────────────┴───────────────────┘\n",
       "</pre>\n"
      ]
     },
     "metadata": {},
     "output_type": "display_data"
    },
    {
     "data": {
      "text/plain": [
       "\u001B[1m Total params: \u001B[0m\u001B[38;5;34m26,835\u001B[0m (104.82 KB)\n"
      ],
      "text/html": [
       "<pre style=\"white-space:pre;overflow-x:auto;line-height:normal;font-family:Menlo,'DejaVu Sans Mono',consolas,'Courier New',monospace\"><span style=\"font-weight: bold\"> Total params: </span><span style=\"color: #00af00; text-decoration-color: #00af00\">26,835</span> (104.82 KB)\n",
       "</pre>\n"
      ]
     },
     "metadata": {},
     "output_type": "display_data"
    },
    {
     "data": {
      "text/plain": [
       "\u001B[1m Trainable params: \u001B[0m\u001B[38;5;34m26,547\u001B[0m (103.70 KB)\n"
      ],
      "text/html": [
       "<pre style=\"white-space:pre;overflow-x:auto;line-height:normal;font-family:Menlo,'DejaVu Sans Mono',consolas,'Courier New',monospace\"><span style=\"font-weight: bold\"> Trainable params: </span><span style=\"color: #00af00; text-decoration-color: #00af00\">26,547</span> (103.70 KB)\n",
       "</pre>\n"
      ]
     },
     "metadata": {},
     "output_type": "display_data"
    },
    {
     "data": {
      "text/plain": [
       "\u001B[1m Non-trainable params: \u001B[0m\u001B[38;5;34m288\u001B[0m (1.12 KB)\n"
      ],
      "text/html": [
       "<pre style=\"white-space:pre;overflow-x:auto;line-height:normal;font-family:Menlo,'DejaVu Sans Mono',consolas,'Courier New',monospace\"><span style=\"font-weight: bold\"> Non-trainable params: </span><span style=\"color: #00af00; text-decoration-color: #00af00\">288</span> (1.12 KB)\n",
       "</pre>\n"
      ]
     },
     "metadata": {},
     "output_type": "display_data"
    }
   ],
   "execution_count": 11
  },
  {
   "metadata": {},
   "cell_type": "markdown",
   "source": "训练模型和评估，模型",
   "id": "ccb44d8bd1a1ab35"
  },
  {
   "metadata": {
    "ExecuteTime": {
     "end_time": "2024-07-17T06:06:32.517255Z",
     "start_time": "2024-07-17T06:06:32.513108Z"
    }
   },
   "cell_type": "code",
   "source": [
    "# 输入测试数据\n",
    "y_test = y_test_B\n",
    "X_test = X_test_B"
   ],
   "id": "fd5ec86c5fdad85e",
   "outputs": [],
   "execution_count": 12
  },
  {
   "metadata": {
    "ExecuteTime": {
     "end_time": "2024-07-17T06:06:35.293751Z",
     "start_time": "2024-07-17T06:06:35.290483Z"
    }
   },
   "cell_type": "code",
   "source": [
    "# 将y_test转换成独热编码\n",
    "y_test = to_categorical(y_test, num_classes=3)"
   ],
   "id": "7b175b464896962e",
   "outputs": [],
   "execution_count": 13
  },
  {
   "metadata": {
    "ExecuteTime": {
     "end_time": "2024-07-17T06:06:38.024372Z",
     "start_time": "2024-07-17T06:06:38.015086Z"
    }
   },
   "cell_type": "code",
   "source": [
    "# 调整测试集输入数据形状\n",
    "X_test = np.squeeze(X_test)\n",
    "X_test = Reshape((n_w,n_h,1))(X_test)"
   ],
   "id": "3e0d38e05ca85d51",
   "outputs": [],
   "execution_count": 14
  },
  {
   "metadata": {
    "ExecuteTime": {
     "end_time": "2024-07-17T06:06:46.713811Z",
     "start_time": "2024-07-17T06:06:46.710073Z"
    }
   },
   "cell_type": "code",
   "source": [
    "# 早停法\n",
    "from tensorflow.keras.callbacks import EarlyStopping  \n",
    "early_stopping = EarlyStopping(monitor='val_loss', patience=3)  "
   ],
   "id": "73c678048c8d3f50",
   "outputs": [],
   "execution_count": 15
  },
  {
   "metadata": {
    "ExecuteTime": {
     "end_time": "2024-07-17T05:31:16.425048Z",
     "start_time": "2024-07-17T05:23:29.599641Z"
    }
   },
   "cell_type": "code",
   "source": "model.fit(X_train,y_train, epochs=10, batch_size=512, validation_split=0.2,callbacks=[early_stopping])",
   "id": "a24bb43df7935dc2",
   "outputs": [
    {
     "name": "stdout",
     "output_type": "stream",
     "text": [
      "Epoch 1/10\n",
      "\u001B[1m472/472\u001B[0m \u001B[32m━━━━━━━━━━━━━━━━━━━━\u001B[0m\u001B[37m\u001B[0m \u001B[1m48s\u001B[0m 98ms/step - accuracy: 0.8428 - loss: 0.3455 - val_accuracy: 0.8254 - val_loss: 0.5395\n",
      "Epoch 2/10\n",
      "\u001B[1m472/472\u001B[0m \u001B[32m━━━━━━━━━━━━━━━━━━━━\u001B[0m\u001B[37m\u001B[0m \u001B[1m46s\u001B[0m 98ms/step - accuracy: 0.9820 - loss: 0.0671 - val_accuracy: 0.8738 - val_loss: 0.3822\n",
      "Epoch 3/10\n",
      "\u001B[1m472/472\u001B[0m \u001B[32m━━━━━━━━━━━━━━━━━━━━\u001B[0m\u001B[37m\u001B[0m \u001B[1m46s\u001B[0m 97ms/step - accuracy: 0.9836 - loss: 0.0576 - val_accuracy: 0.8867 - val_loss: 0.3620\n",
      "Epoch 4/10\n",
      "\u001B[1m472/472\u001B[0m \u001B[32m━━━━━━━━━━━━━━━━━━━━\u001B[0m\u001B[37m\u001B[0m \u001B[1m47s\u001B[0m 99ms/step - accuracy: 0.9843 - loss: 0.0535 - val_accuracy: 0.9186 - val_loss: 0.2682\n",
      "Epoch 5/10\n",
      "\u001B[1m472/472\u001B[0m \u001B[32m━━━━━━━━━━━━━━━━━━━━\u001B[0m\u001B[37m\u001B[0m \u001B[1m46s\u001B[0m 98ms/step - accuracy: 0.9853 - loss: 0.0501 - val_accuracy: 0.9154 - val_loss: 0.2956\n",
      "Epoch 6/10\n",
      "\u001B[1m472/472\u001B[0m \u001B[32m━━━━━━━━━━━━━━━━━━━━\u001B[0m\u001B[37m\u001B[0m \u001B[1m46s\u001B[0m 98ms/step - accuracy: 0.9861 - loss: 0.0459 - val_accuracy: 0.9335 - val_loss: 0.2295\n",
      "Epoch 7/10\n",
      "\u001B[1m472/472\u001B[0m \u001B[32m━━━━━━━━━━━━━━━━━━━━\u001B[0m\u001B[37m\u001B[0m \u001B[1m47s\u001B[0m 99ms/step - accuracy: 0.9863 - loss: 0.0449 - val_accuracy: 0.9214 - val_loss: 0.2777\n",
      "Epoch 8/10\n",
      "\u001B[1m472/472\u001B[0m \u001B[32m━━━━━━━━━━━━━━━━━━━━\u001B[0m\u001B[37m\u001B[0m \u001B[1m47s\u001B[0m 99ms/step - accuracy: 0.9876 - loss: 0.0415 - val_accuracy: 0.8875 - val_loss: 0.4187\n",
      "Epoch 9/10\n",
      "\u001B[1m472/472\u001B[0m \u001B[32m━━━━━━━━━━━━━━━━━━━━\u001B[0m\u001B[37m\u001B[0m \u001B[1m47s\u001B[0m 100ms/step - accuracy: 0.9876 - loss: 0.0406 - val_accuracy: 0.9100 - val_loss: 0.3166\n",
      "Epoch 10/10\n",
      "\u001B[1m472/472\u001B[0m \u001B[32m━━━━━━━━━━━━━━━━━━━━\u001B[0m\u001B[37m\u001B[0m \u001B[1m47s\u001B[0m 100ms/step - accuracy: 0.9892 - loss: 0.0362 - val_accuracy: 0.9286 - val_loss: 0.2705\n"
     ]
    },
    {
     "data": {
      "text/plain": [
       "<keras.src.callbacks.history.History at 0x23307f8c380>"
      ]
     },
     "execution_count": 43,
     "metadata": {},
     "output_type": "execute_result"
    }
   ],
   "execution_count": 43
  },
  {
   "metadata": {
    "ExecuteTime": {
     "end_time": "2024-07-17T05:31:50.403661Z",
     "start_time": "2024-07-17T05:31:50.182587Z"
    }
   },
   "cell_type": "code",
   "source": [
    "# 评估模型1\n",
    "loss, accuracy = model.evaluate(X_test, y_test)\n",
    "print(f\"测试损失: {loss}, 测试准确率: {accuracy}\")"
   ],
   "id": "197fd348404a35f0",
   "outputs": [
    {
     "name": "stdout",
     "output_type": "stream",
     "text": [
      "\u001B[1m54/54\u001B[0m \u001B[32m━━━━━━━━━━━━━━━━━━━━\u001B[0m\u001B[37m\u001B[0m \u001B[1m0s\u001B[0m 3ms/step - accuracy: 0.8569 - loss: 0.6399\n",
      "测试损失: 0.9982734322547913, 测试准确率: 0.7623529434204102\n"
     ]
    }
   ],
   "execution_count": 45
  },
  {
   "metadata": {
    "ExecuteTime": {
     "end_time": "2024-07-17T05:31:55.629809Z",
     "start_time": "2024-07-17T05:31:55.315061Z"
    }
   },
   "cell_type": "code",
   "source": "y_pred = model.predict(X_test)",
   "id": "a8350f58f50b7bc9",
   "outputs": [
    {
     "name": "stdout",
     "output_type": "stream",
     "text": [
      "\u001B[1m54/54\u001B[0m \u001B[32m━━━━━━━━━━━━━━━━━━━━\u001B[0m\u001B[37m\u001B[0m \u001B[1m0s\u001B[0m 4ms/step\n"
     ]
    }
   ],
   "execution_count": 46
  },
  {
   "metadata": {
    "ExecuteTime": {
     "end_time": "2024-07-17T05:31:58.593963Z",
     "start_time": "2024-07-17T05:31:58.577340Z"
    }
   },
   "cell_type": "code",
   "source": [
    "# 将独热编码转换为类别标签  \n",
    "y_test = np.argmax(y_test, axis=1)  \n",
    "  \n",
    "# 将 y_pred 转换成类别标签  \n",
    "\n",
    "y_pred = np.argmax(y_pred, axis=1) \n",
    "  \n",
    "\n",
    "\n",
    "# 计算每个类别的精确率、召回率和F1分数  \n",
    "# 注意：sklearn的precision_score, recall_score, f1_score默认计算的是所有类别的平均值  \n",
    "\n",
    "# 类别标签，用于指定要计算哪些类别的指标  \n",
    "labels = np.unique(y_test)  \n",
    "\n",
    "# 计算准确率  \n",
    "accuracy = accuracy_score(y_test, y_pred)  \n",
    "print(f\"准确率: {accuracy}\")\n",
    "\n",
    "# 计算每个类别的精确率  \n",
    "precisions = {label: precision_score(y_test, y_pred, average=None, labels=[label]) for label in labels}  \n",
    "  \n",
    "# 计算每个类别的召回率  \n",
    "recalls = {label: recall_score(y_test, y_pred, average=None, labels=[label]) for label in labels}  \n",
    "  \n",
    "# 计算每个类别的F1分数  \n",
    "f1s = {label: f1_score(y_test, y_pred, average=None, labels=[label]) for label in labels}  \n",
    "  \n",
    "# 打印结果  \n",
    "print(\"精确率:\", precisions)  \n",
    "print(\"召回率:\", recalls)  \n",
    "print(\"F1分数:\", f1s)  \n",
    "  \n",
    "# 如果你想要宏平均（Macro-averaging）或微平均（Micro-averaging）的结果，  \n",
    "# 可以简单地调用precision_score, recall_score, f1_score时设置average参数为'macro'或'micro'  \n",
    "macro_precision = precision_score(y_test, y_pred, average='macro')  \n",
    "macro_recall = recall_score(y_test, y_pred, average='macro')  \n",
    "macro_f1 = f1_score(y_test, y_pred, average='macro')  \n",
    "  \n",
    "print(\"宏平均精确率:\", macro_precision)  \n",
    "print(\"宏平均召回率:\", macro_recall)  \n",
    "print(\"宏平均F1分数:\", macro_f1)\n",
    "\n",
    "# 计算混淆矩阵  \n",
    "cm = confusion_matrix(y_test, y_pred)  \n",
    "\n",
    "classes = np.unique(y_test)    \n",
    "  \n",
    "# 打印类别标签和混淆矩阵  \n",
    "print(\"类别标签:\", classes)  \n",
    "print(\"混淆矩阵:\\n\", cm)\n",
    "\n",
    "\n"
   ],
   "id": "819fbb58e7a817fe",
   "outputs": [
    {
     "name": "stdout",
     "output_type": "stream",
     "text": [
      "准确率: 0.7623529411764706\n",
      "精确率: {0: array([0.93650794]), 1: array([0.72344975]), 2: array([1.])}\n",
      "召回率: {0: array([0.38311688]), 1: array([0.99607458]), 2: array([0.69230769])}\n",
      "F1分数: {0: array([0.5437788]), 1: array([0.83815029]), 2: array([0.81818182])}\n",
      "宏平均精确率: 0.8866525623475018\n",
      "宏平均召回率: 0.6904997194496705\n",
      "宏平均F1分数: 0.7333703030141591\n",
      "类别标签: [0 1 2]\n",
      "混淆矩阵:\n",
      " [[ 236  380    0]\n",
      " [   4 1015    0]\n",
      " [  12    8   45]]\n"
     ]
    }
   ],
   "execution_count": 47
  },
  {
   "metadata": {
    "ExecuteTime": {
     "end_time": "2024-07-17T05:32:13.135996Z",
     "start_time": "2024-07-17T05:32:12.915149Z"
    }
   },
   "cell_type": "code",
   "source": [
    "# 绘制roc曲线\n",
    "y_test = y_test_B\n",
    "# 将独热编码转换为类别标签  \n",
    "y_test = to_categorical(y_test, num_classes=3)\n",
    "X_test = X_test_B\n",
    "# 测试输入整形\n",
    "# 调整测试集输入数据形状\n",
    "X_test = np.squeeze(X_test)\n",
    "X_test = Reshape((n_w,n_h,1))(X_test)\n",
    "y_pred = model.predict(X_test)"
   ],
   "id": "b95badcd7c2373a7",
   "outputs": [
    {
     "name": "stdout",
     "output_type": "stream",
     "text": [
      "\u001B[1m54/54\u001B[0m \u001B[32m━━━━━━━━━━━━━━━━━━━━\u001B[0m\u001B[37m\u001B[0m \u001B[1m0s\u001B[0m 3ms/step\n"
     ]
    }
   ],
   "execution_count": 48
  },
  {
   "metadata": {
    "ExecuteTime": {
     "end_time": "2024-07-17T05:32:16.252771Z",
     "start_time": "2024-07-17T05:32:16.162539Z"
    }
   },
   "cell_type": "code",
   "source": [
    "# 将类别标签二值化  \n",
    "y_test_binarized = label_binarize(y_test, classes=[0, 1, 2])  \n",
    "n_classes = y_test_binarized.shape[1]  \n",
    "\n",
    "# 初始化FPR, TPR数组  \n",
    "fpr = dict()  \n",
    "tpr = dict()  \n",
    "roc_auc = dict()  \n",
    "  \n",
    "# 对每个类别计算ROC曲线  \n",
    "for i in range(n_classes):  \n",
    "    fpr[i], tpr[i], _ = roc_curve(y_test_binarized[:, i], y_pred[:, i])  \n",
    "    roc_auc[i] = auc(fpr[i], tpr[i])  \n",
    "  \n",
    "# 绘制ROC曲线  \n",
    "plt.figure()  \n",
    "lw = 2  \n",
    "colors = ['darkorange', 'cornflowerblue', 'gold']  \n",
    "for i, color in zip(range(n_classes), colors):  \n",
    "    plt.plot(fpr[i], tpr[i], color=color, lw=lw,  \n",
    "             label=f'Class {i} (AUC = {roc_auc[i]:.2f})')  \n",
    "  \n",
    "plt.plot([0, 1], [0, 1], 'k--', lw=lw)  \n",
    "plt.xlim([0.0, 1.0])  \n",
    "plt.ylim([0.0, 1.05])  \n",
    "plt.xlabel('False Positive Rate')  \n",
    "plt.ylabel('True Positive Rate')  \n",
    "plt.title('Receiver Operating Characteristic (Multi-class)')  \n",
    "plt.legend(loc=\"lower right\")  \n",
    "plt.show()"
   ],
   "id": "779fbe2071b764f7",
   "outputs": [
    {
     "data": {
      "text/plain": [
       "<Figure size 640x480 with 1 Axes>"
      ],
      "image/png": "[encoded data removed]"
     },
     "metadata": {},
     "output_type": "display_data"
    }
   ],
   "execution_count": 49
  },
  {
   "metadata": {
    "ExecuteTime": {
     "end_time": "2024-07-17T06:21:23.561515Z",
     "start_time": "2024-07-17T06:07:16.675210Z"
    }
   },
   "cell_type": "code",
   "source": "model2.fit(X_train,y_train, epochs=3, batch_size=512, validation_split=0.2,callbacks=[early_stopping])",
   "id": "3d70a6d53cb743f5",
   "outputs": [
    {
     "name": "stdout",
     "output_type": "stream",
     "text": [
      "Epoch 1/3\n",
      "\u001B[1m472/472\u001B[0m \u001B[32m━━━━━━━━━━━━━━━━━━━━\u001B[0m\u001B[37m\u001B[0m \u001B[1m294s\u001B[0m 613ms/step - accuracy: 0.8628 - loss: 0.4011 - val_accuracy: 0.7721 - val_loss: 0.6886\n",
      "Epoch 2/3\n",
      "\u001B[1m472/472\u001B[0m \u001B[32m━━━━━━━━━━━━━━━━━━━━\u001B[0m\u001B[37m\u001B[0m \u001B[1m275s\u001B[0m 582ms/step - accuracy: 0.9843 - loss: 0.0558 - val_accuracy: 0.7912 - val_loss: 0.5972\n",
      "Epoch 3/3\n",
      "\u001B[1m472/472\u001B[0m \u001B[32m━━━━━━━━━━━━━━━━━━━━\u001B[0m\u001B[37m\u001B[0m \u001B[1m278s\u001B[0m 589ms/step - accuracy: 0.9863 - loss: 0.0464 - val_accuracy: 0.8454 - val_loss: 0.4767\n"
     ]
    },
    {
     "data": {
      "text/plain": [
       "<keras.src.callbacks.history.History at 0x20faa186270>"
      ]
     },
     "execution_count": 16,
     "metadata": {},
     "output_type": "execute_result"
    }
   ],
   "execution_count": 16
  },
  {
   "metadata": {
    "ExecuteTime": {
     "end_time": "2024-07-17T06:23:08.848863Z",
     "start_time": "2024-07-17T06:23:08.836125Z"
    }
   },
   "cell_type": "code",
   "source": [
    "# 调整测试集输入数据形状\n",
    "y_test = y_test_B\n",
    "# 将独热编码转换为类别标签  \n",
    "y_test = to_categorical(y_test, num_classes=3)\n",
    "X_test = X_test_B\n",
    "# 测试输入整形\n",
    "# 调整测试集输入数据形状\n",
    "X_test = np.squeeze(X_test)\n",
    "X_test = Reshape((n_w,n_h,1))(X_test)\n"
   ],
   "id": "5cc5a20333c9dd4a",
   "outputs": [],
   "execution_count": 17
  },
  {
   "metadata": {
    "ExecuteTime": {
     "end_time": "2024-07-17T06:23:11.586076Z",
     "start_time": "2024-07-17T06:23:11.077868Z"
    }
   },
   "cell_type": "code",
   "source": [
    "# 评估模型2\n",
    "loss, accuracy = model2.evaluate(X_test, y_test)\n",
    "print(f\"测试损失: {loss}, 测试准确率: {accuracy}\")"
   ],
   "id": "64952f1880e2181",
   "outputs": [
    {
     "name": "stdout",
     "output_type": "stream",
     "text": [
      "\u001B[1m54/54\u001B[0m \u001B[32m━━━━━━━━━━━━━━━━━━━━\u001B[0m\u001B[37m\u001B[0m \u001B[1m0s\u001B[0m 8ms/step - accuracy: 0.8353 - loss: 1.2353\n",
      "测试损失: 1.9827181100845337, 测试准确率: 0.7305882573127747\n"
     ]
    }
   ],
   "execution_count": 18
  },
  {
   "metadata": {
    "ExecuteTime": {
     "end_time": "2024-07-17T06:23:21.556900Z",
     "start_time": "2024-07-17T06:23:20.508557Z"
    }
   },
   "cell_type": "code",
   "source": "y_pred = model2.predict(X_test)",
   "id": "ae8435a85671950a",
   "outputs": [
    {
     "name": "stdout",
     "output_type": "stream",
     "text": [
      "\u001B[1m54/54\u001B[0m \u001B[32m━━━━━━━━━━━━━━━━━━━━\u001B[0m\u001B[37m\u001B[0m \u001B[1m1s\u001B[0m 15ms/step\n"
     ]
    }
   ],
   "execution_count": 19
  },
  {
   "metadata": {
    "ExecuteTime": {
     "end_time": "2024-07-17T06:23:23.899011Z",
     "start_time": "2024-07-17T06:23:23.881524Z"
    }
   },
   "cell_type": "code",
   "source": [
    "# 将独热编码转换为类别标签  \n",
    "y_test = np.argmax(y_test, axis=1)  \n",
    "  \n",
    "# 将 y_pred 转换成类别标签  \n",
    "\n",
    "y_pred = np.argmax(y_pred, axis=1) \n",
    "  \n",
    "\n",
    "\n",
    "# 计算每个类别的精确率、召回率和F1分数  \n",
    "# 注意：sklearn的precision_score, recall_score, f1_score默认计算的是所有类别的平均值  \n",
    "\n",
    "# 类别标签，用于指定要计算哪些类别的指标  \n",
    "labels = np.unique(y_test)  \n",
    "\n",
    "# 计算准确率  \n",
    "accuracy = accuracy_score(y_test, y_pred)  \n",
    "print(f\"准确率: {accuracy}\")\n",
    "\n",
    "# 计算每个类别的精确率  \n",
    "precisions = {label: precision_score(y_test, y_pred, average=None, labels=[label]) for label in labels}  \n",
    "  \n",
    "# 计算每个类别的召回率  \n",
    "recalls = {label: recall_score(y_test, y_pred, average=None, labels=[label]) for label in labels}  \n",
    "  \n",
    "# 计算每个类别的F1分数  \n",
    "f1s = {label: f1_score(y_test, y_pred, average=None, labels=[label]) for label in labels}  \n",
    "  \n",
    "# 打印结果  \n",
    "print(\"精确率:\", precisions)  \n",
    "print(\"召回率:\", recalls)  \n",
    "print(\"F1分数:\", f1s)  \n",
    "  \n",
    "# 如果你想要宏平均（Macro-averaging）或微平均（Micro-averaging）的结果，  \n",
    "# 可以简单地调用precision_score, recall_score, f1_score时设置average参数为'macro'或'micro'  \n",
    "macro_precision = precision_score(y_test, y_pred, average='macro')  \n",
    "macro_recall = recall_score(y_test, y_pred, average='macro')  \n",
    "macro_f1 = f1_score(y_test, y_pred, average='macro')  \n",
    "  \n",
    "print(\"宏平均精确率:\", macro_precision)  \n",
    "print(\"宏平均召回率:\", macro_recall)  \n",
    "print(\"宏平均F1分数:\", macro_f1)\n",
    "\n",
    "# 计算混淆矩阵  \n",
    "cm = confusion_matrix(y_test, y_pred)  \n",
    "  \n",
    "# 打印混淆矩阵  \n",
    "print(\"混淆矩阵:\")  \n",
    "print(cm)  \n",
    "\n"
   ],
   "id": "647a7eebd020344",
   "outputs": [
    {
     "name": "stdout",
     "output_type": "stream",
     "text": [
      "准确率: 0.7305882352941176\n",
      "精确率: {0: array([0.98773006]), 1: array([0.69705278]), 2: array([0.82051282])}\n",
      "召回率: {0: array([0.26136364]), 1: array([0.99803729]), 2: array([0.98461538])}\n",
      "F1分数: {0: array([0.41335045]), 1: array([0.82082324]), 2: array([0.8951049])}\n",
      "宏平均精确率: 0.8350985525788\n",
      "宏平均召回率: 0.7480054374804129\n",
      "宏平均F1分数: 0.7097595296503066\n",
      "混淆矩阵:\n",
      "[[ 161  441   14]\n",
      " [   2 1017    0]\n",
      " [   0    1   64]]\n"
     ]
    }
   ],
   "execution_count": 20
  },
  {
   "metadata": {
    "ExecuteTime": {
     "end_time": "2024-07-17T06:23:33.283793Z",
     "start_time": "2024-07-17T06:23:32.803654Z"
    }
   },
   "cell_type": "code",
   "source": [
    "# 绘制roc曲线\n",
    "y_test = y_test_B\n",
    "# 将独热编码转换为类别标签  \n",
    "y_test = to_categorical(y_test, num_classes=3)\n",
    "\n",
    "# 测试输入\n",
    "y_pred = model2.predict(X_test)"
   ],
   "id": "177b802c71ea9589",
   "outputs": [
    {
     "name": "stdout",
     "output_type": "stream",
     "text": [
      "\u001B[1m54/54\u001B[0m \u001B[32m━━━━━━━━━━━━━━━━━━━━\u001B[0m\u001B[37m\u001B[0m \u001B[1m0s\u001B[0m 8ms/step\n"
     ]
    }
   ],
   "execution_count": 21
  },
  {
   "metadata": {
    "ExecuteTime": {
     "end_time": "2024-07-17T06:23:34.892912Z",
     "start_time": "2024-07-17T06:23:34.741628Z"
    }
   },
   "cell_type": "code",
   "source": [
    "# 将类别标签二值化  \n",
    "y_test_binarized = label_binarize(y_test, classes=[0, 1, 2])  \n",
    "n_classes = y_test_binarized.shape[1]  \n",
    "\n",
    "# 初始化FPR, TPR数组  \n",
    "fpr = dict()  \n",
    "tpr = dict()  \n",
    "roc_auc = dict()  \n",
    "  \n",
    "# 对每个类别计算ROC曲线  \n",
    "for i in range(n_classes):  \n",
    "    fpr[i], tpr[i], _ = roc_curve(y_test_binarized[:, i], y_pred[:, i])  \n",
    "    roc_auc[i] = auc(fpr[i], tpr[i])  \n",
    "  \n",
    "# 绘制ROC曲线  \n",
    "plt.figure()  \n",
    "lw = 2  \n",
    "colors = ['darkorange', 'cornflowerblue', 'gold']  \n",
    "for i, color in zip(range(n_classes), colors):  \n",
    "    plt.plot(fpr[i], tpr[i], color=color, lw=lw,  \n",
    "             label=f'Class {i} (AUC = {roc_auc[i]:.2f})')  \n",
    "  \n",
    "plt.plot([0, 1], [0, 1], 'k--', lw=lw)  \n",
    "plt.xlim([0.0, 1.0])  \n",
    "plt.ylim([0.0, 1.05])  \n",
    "plt.xlabel('False Positive Rate')  \n",
    "plt.ylabel('True Positive Rate')  \n",
    "plt.title('Receiver Operating Characteristic (Multi-class)')  \n",
    "plt.legend(loc=\"lower right\")  \n",
    "plt.show()"
   ],
   "id": "d9bc2417ae5b93ce",
   "outputs": [
    {
     "data": {
      "text/plain": [
       "<Figure size 640x480 with 1 Axes>"
      ],
      "image/png": "[encoded data removed]"
     },
     "metadata": {},
     "output_type": "display_data"
    }
   ],
   "execution_count": 22
  }
 ],
 "metadata": {
  "kernelspec": {
   "display_name": "Python (pml-project)",
   "language": "python",
   "name": "pml-project"
  },
  "language_info": {
   "codemirror_mode": {
    "name": "ipython",
    "version": 2
   },
   "file_extension": ".py",
   "mimetype": "text/x-python",
   "name": "python",
   "nbconvert_exporter": "python",
   "pygments_lexer": "ipython2",
   "version": "2.7.6"
  }
 },
 "nbformat": 4,
 "nbformat_minor": 5
}
